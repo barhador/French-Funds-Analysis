{
 "cells": [
  {
   "cell_type": "markdown",
   "metadata": {},
   "source": [
    "# The fonctions to import\n"
   ]
  },
  {
   "cell_type": "code",
   "execution_count": 1,
   "metadata": {},
   "outputs": [
    {
     "name": "stderr",
     "output_type": "stream",
     "text": [
      "c:\\Users\\egeuz\\AppData\\Local\\Programs\\Python\\Python313\\Lib\\site-packages\\tqdm\\auto.py:21: TqdmWarning: IProgress not found. Please update jupyter and ipywidgets. See https://ipywidgets.readthedocs.io/en/stable/user_install.html\n",
      "  from .autonotebook import tqdm as notebook_tqdm\n"
     ]
    }
   ],
   "source": [
    "import numpy as np\n",
    "import requests\n",
    "from bs4 import BeautifulSoup\n",
    "import pandas as pd\n",
    "import matplotlib.pyplot as plt\n",
    "import seaborn as sns\n",
    "import plotly.express as px\n",
    "from sklearn.ensemble import RandomForestRegressor\n",
    "from sklearn.model_selection import train_test_split\n",
    "from sklearn.metrics import mean_squared_error, r2_score\n",
    "import google.generativeai as genai\n",
    "from IPython.display import Markdown\n",
    "sns.set_palette('deep')\n",
    "\n"
   ]
  },
  {
   "cell_type": "markdown",
   "metadata": {},
   "source": [
    "# The scraping of the funds of french private company's"
   ]
  },
  {
   "cell_type": "code",
   "execution_count": 2,
   "metadata": {},
   "outputs": [
    {
     "name": "stdout",
     "output_type": "stream",
     "text": [
      "                                         Name   Symbol         Last   Chg  \\\n",
      "0              Amundi Euro Liquidity SRI IC C  0P0000.  249,580.888  0.01   \n",
      "1              Carmignac Patrimoine A EUR Acc  0P0000.      713.930 -0.03   \n",
      "2             Carmignac Patrimoine A EUR Ydis  0P0000.      116.710 -0.03   \n",
      "3              Carmignac Patrimoine E EUR Acc  0P0000.      171.630 -0.03   \n",
      "4          Carmignac Patrimoine A CHF Acc Hdg  0P0000.      115.010 -0.04   \n",
      "..                                        ...      ...          ...   ...   \n",
      "95                               ALM Offensif  0P0000.      312.050  0.56   \n",
      "96              29 Haussmann Euro Rendement C  0P0000.    1,607.860  0.10   \n",
      "97  Candriam Index Arbitrage Classique en EUR  0P0000.    1,518.920 -0.08   \n",
      "98          BNP Paribas Actions Monde Classic  0P0000.       31.050 -0.22   \n",
      "99   Natixis Ultra Short Term Bonds Plus SI C  0P0000.    1,711.680 -0.01   \n",
      "\n",
      "   Total_Assets   Time  \n",
      "0        53.84B  13/03  \n",
      "1         6.07B  13/03  \n",
      "2         6.07B  13/03  \n",
      "3         6.07B  13/03  \n",
      "4         6.07B  13/03  \n",
      "..          ...    ...  \n",
      "95        1.12B  12/03  \n",
      "96         1.3B  12/03  \n",
      "97      256.67M  13/03  \n",
      "98        1.36B  13/03  \n",
      "99        2.27B  13/03  \n",
      "\n",
      "[100 rows x 6 columns]\n"
     ]
    }
   ],
   "source": [
    "\n",
    "\n",
    "def scrape_french_funds():\n",
    "    url = 'https://www.investing.com/funds/france-funds'\n",
    "    headers = {'User-Agent': 'Mozilla/5.0 (Windows NT 10.0; Win64; x64) AppleWebKit/537.36'}\n",
    "\n",
    "    try:\n",
    "        response = requests.get(url, headers=headers)\n",
    "        response.raise_for_status()\n",
    "        soup = BeautifulSoup(response.content, 'html.parser')\n",
    "\n",
    "        Name = []\n",
    "        Symbol = []\n",
    "        Last = []\n",
    "        Chg = []\n",
    "        Total_Assets = []\n",
    "        Time = []\n",
    "\n",
    "        table = soup.find('table')\n",
    "        if table:\n",
    "            rows = table.find_all('tr')[1:]  \n",
    "            for row in rows:\n",
    "                cols = row.find_all('td')\n",
    "                # print(f\"Columns in row: {[col.text.strip() for col in cols]}\") # DEBUG PRINT: Show column contents\n",
    "                if len(cols) >= 8:  \n",
    "                    Name.append(cols[1].text.strip())  \n",
    "                    Symbol.append(cols[2].text.strip()) \n",
    "                    Last.append(cols[3].text.strip())   \n",
    "                    Total_Assets.append(cols[5].text.strip()) \n",
    "                    Time.append(cols[6].text.strip())   \n",
    "                    try:\n",
    "                        Chg_value = float(cols[4].text.strip().replace('%', '')) \n",
    "                        Chg.append(Chg_value)\n",
    "                    except ValueError:\n",
    "                        Chg.append(None)\n",
    "                        print(f\"Warning: Could not convert '{cols[4].text.strip()}' to float for 'Chg'\")\n",
    "\n",
    "        # Create DataFrame\n",
    "        df = pd.DataFrame({\n",
    "            'Name': Name,\n",
    "            'Symbol': Symbol,\n",
    "            'Last': Last,\n",
    "            'Chg': Chg,\n",
    "            'Total_Assets': Total_Assets,\n",
    "            'Time': Time\n",
    "            })\n",
    "\n",
    "        return df\n",
    "\n",
    "    except Exception as e:\n",
    "        print(f'Error scraping data: {e}')\n",
    "        return None\n",
    "\n",
    "df = scrape_french_funds()\n",
    "print(df)"
   ]
  },
  {
   "cell_type": "markdown",
   "metadata": {},
   "source": [
    "# Fetch the data\n"
   ]
  },
  {
   "cell_type": "code",
   "execution_count": 3,
   "metadata": {},
   "outputs": [
    {
     "name": "stdout",
     "output_type": "stream",
     "text": [
      "French Companies Funds Data:\n"
     ]
    },
    {
     "data": {
      "application/vnd.microsoft.datawrangler.viewer.v0+json": {
       "columns": [
        {
         "name": "index",
         "rawType": "int64",
         "type": "integer"
        },
        {
         "name": "Name",
         "rawType": "object",
         "type": "string"
        },
        {
         "name": "Symbol",
         "rawType": "object",
         "type": "string"
        },
        {
         "name": "Last",
         "rawType": "object",
         "type": "string"
        },
        {
         "name": "Chg",
         "rawType": "float64",
         "type": "float"
        },
        {
         "name": "Total_Assets",
         "rawType": "object",
         "type": "string"
        },
        {
         "name": "Time",
         "rawType": "object",
         "type": "string"
        }
       ],
       "conversionMethod": "pd.DataFrame",
       "ref": "a306a716-1dd9-4517-9200-25f795712085",
       "rows": [
        [
         "0",
         "Amundi Euro Liquidity SRI IC C",
         "0P0000.",
         "249,580.888",
         "0.01",
         "53.84B",
         "13/03"
        ],
        [
         "1",
         "Carmignac Patrimoine A EUR Acc",
         "0P0000.",
         "713.930",
         "-0.03",
         "6.07B",
         "13/03"
        ],
        [
         "2",
         "Carmignac Patrimoine A EUR Ydis",
         "0P0000.",
         "116.710",
         "-0.03",
         "6.07B",
         "13/03"
        ],
        [
         "3",
         "Carmignac Patrimoine E EUR Acc",
         "0P0000.",
         "171.630",
         "-0.03",
         "6.07B",
         "13/03"
        ],
        [
         "4",
         "Carmignac Patrimoine A CHF Acc Hdg",
         "0P0000.",
         "115.010",
         "-0.04",
         "6.07B",
         "13/03"
        ],
        [
         "5",
         "Carmignac Patrimoine A USD Acc Hdg",
         "0P0000.",
         "147.230",
         "-0.01",
         "6.07B",
         "13/03"
        ],
        [
         "6",
         "Carmignac Sécurité A EUR Ydis",
         "0P0000.",
         "99.700",
         "0.02",
         "4.95B",
         "13/03"
        ],
        [
         "7",
         "Carmignac Sécurité A EUR Acc",
         "0P0000.",
         "1,888.420",
         "0.02",
         "4.95B",
         "13/03"
        ],
        [
         "8",
         "Groupama Trֳ©sorerie R",
         "0P0001.",
         "534.820",
         "0.01",
         "7.75B",
         "13/03"
        ],
        [
         "9",
         "Groupama Trésorerie IC",
         "0P0000.",
         "43,121.250",
         "0.01",
         "7.75B",
         "13/03"
        ],
        [
         "10",
         "Groupama Trésorerie M",
         "0P0000.",
         "1,111.170",
         "0.01",
         "7.75B",
         "13/03"
        ],
        [
         "11",
         "Afer-Sfer",
         "0P0000.",
         "80.150",
         "-0.4",
         "4.79B",
         "13/03"
        ],
        [
         "12",
         "Groupama Entreprises IC",
         "0P0000.",
         "2,436.050",
         "0.01",
         "6.25B",
         "13/03"
        ],
        [
         "13",
         "Groupama Entreprises R",
         "0P0001.",
         "533.780",
         "0.01",
         "6.25B",
         "13/03"
        ],
        [
         "14",
         "Groupama Entreprises N",
         "0P0000.",
         "597.820",
         "0.01",
         "6.25B",
         "13/03"
        ],
        [
         "15",
         "Lazard Convertible Global R",
         "0P0000.",
         "488.680",
         "0.12",
         "2.81B",
         "13/03"
        ],
        [
         "16",
         "Lazard Convertible Global PC H-EUR",
         "0P0001.",
         "1,904.000",
         "-0.42",
         "2.81B",
         "13/03"
        ],
        [
         "17",
         "Lazard Convertible Global A",
         "0P0000.",
         "1,798.110",
         "0.12",
         "2.81B",
         "13/03"
        ],
        [
         "18",
         "Amundi 12 M I",
         "0P0000.",
         "116,543",
         "-0.02",
         "4.27B",
         "13/03"
        ],
        [
         "19",
         "Amundi 12 M E",
         "0P0000.",
         "11,295.200",
         "-0.02",
         "4.27B",
         "13/03"
        ],
        [
         "20",
         "Ofi RS Liquidités C/D",
         "0P0000.",
         "4,679.250",
         "0.01",
         "5.48B",
         "13/03"
        ],
        [
         "21",
         "BNP Paribas Aqua I",
         "0P0000.",
         "76,861.720",
         "-0.31",
         "3.28B",
         "13/03"
        ],
        [
         "22",
         "BNP Paribas Aqua Classic",
         "0P0000.",
         "636.710",
         "-0.31",
         "3.28B",
         "13/03"
        ],
        [
         "23",
         "Comgest Renaissance Europe Z",
         "0P0001.",
         "267.790",
         "-0.69",
         "3.42B",
         "13/03"
        ],
        [
         "24",
         "Renaissance Europe I",
         "0P0000.",
         "278.620",
         "-0.68",
         "3.42B",
         "13/03"
        ],
        [
         "25",
         "Renaissance Europe C",
         "0P0000.",
         "259.160",
         "-0.69",
         "3.42B",
         "13/03"
        ],
        [
         "26",
         "Carmignac Investissement E EUR Acc",
         "0P0000.",
         "280.190",
         "-0.42",
         "3.57B",
         "13/03"
        ],
        [
         "27",
         "Carmignac Investissement A EUR Acc",
         "0P0000.",
         "2,023.540",
         "-0.41",
         "3.57B",
         "13/03"
        ],
        [
         "28",
         "La Française Trésorerie ISR R",
         "0P0000.",
         "92,121.910",
         "0.01",
         "3.2B",
         "13/03"
        ],
        [
         "29",
         "R Valor D EUR",
         "0P0001.",
         "2,791.660",
         "-0.14",
         "6.25B",
         "13/03"
        ],
        [
         "30",
         "R Valor F EUR",
         "0P0001.",
         "3,051.150",
         "-0.14",
         "6.25B",
         "13/03"
        ],
        [
         "31",
         "R Valor C EUR",
         "0P0001.",
         "3,474.870",
         "-0.14",
         "6.25B",
         "13/03"
        ],
        [
         "32",
         "R Valor P EUR",
         "0P0001.",
         "2,466.990",
         "-0.13",
         "6.25B",
         "13/03"
        ],
        [
         "33",
         "Moneta Multi Caps D",
         "0P0000.",
         "309.140",
         "-0.47",
         "1.59B",
         "13/03"
        ],
        [
         "34",
         "Moneta Multi Caps C",
         "0P0000.",
         "386.570",
         "-0.47",
         "1.59B",
         "13/03"
        ],
        [
         "35",
         "Eurose C",
         "0P0000.",
         "445.600",
         "-0.1",
         "2.68B",
         "13/03"
        ],
        [
         "36",
         "Comgest Monde I",
         "0P0000.",
         "35.670",
         "-0.7",
         "2.52B",
         "13/03"
        ],
        [
         "37",
         "Comgest Monde C",
         "0P0000.",
         "31.200",
         "-0.7",
         "2.52B",
         "13/03"
        ],
        [
         "38",
         "Comgest Monde Z",
         "0P0001.",
         "33.380",
         "-0.71",
         "2.52B",
         "13/03"
        ],
        [
         "39",
         "SG Flexible PC",
         "0P0000.",
         "201.700",
         "0.03",
         "2.38B",
         "13/03"
        ],
        [
         "40",
         "CM-CIC Europe Growth C",
         "0P0000.",
         "8,008.950",
         "0.44",
         "2.03B",
         "12/03"
        ],
        [
         "41",
         "Afer Actions Euro A",
         "0P0000.",
         "220.420",
         "-0.58",
         "2.21B",
         "13/03"
        ],
        [
         "42",
         "Afer Actions Euro I",
         "0P0000.",
         "210,793",
         "-0.58",
         "2.21B",
         "13/03"
        ],
        [
         "43",
         "Credit Suisse Lux Global Robotics Equity Fund B US",
         "0P0001.",
         "21.540",
         "-2.36",
         "1.14B",
         "13/03"
        ],
        [
         "44",
         "Swiss Life Funds F Bond Cash Equivalent I",
         "0P0000.",
         "11,552.060",
         "0.01",
         "2.13B",
         "13/03"
        ],
        [
         "45",
         "H2O Multibonds FCP IEUR C",
         "0P0001.",
         "303,322",
         "2.02",
         "1.28B",
         "13/03"
        ],
        [
         "46",
         "H2O Multibonds FCP SREUR C",
         "0P0001.",
         "130.030",
         "2.02",
         "1.28B",
         "13/03"
        ],
        [
         "47",
         "H2O Multibonds RC",
         "0P0001.",
         "521.160",
         "0.12",
         "1.7B",
         "05/07"
        ],
        [
         "48",
         "H2O Multibonds FCP NEUR C",
         "0P0001.",
         "204.170",
         "2.01",
         "1.28B",
         "13/03"
        ],
        [
         "49",
         "H2O Multibonds FCP RUSD C",
         "0P0001.",
         "277.560",
         "1.12",
         "1.28B",
         "13/03"
        ]
       ],
       "shape": {
        "columns": 6,
        "rows": 100
       }
      },
      "text/html": [
       "<div>\n",
       "<style scoped>\n",
       "    .dataframe tbody tr th:only-of-type {\n",
       "        vertical-align: middle;\n",
       "    }\n",
       "\n",
       "    .dataframe tbody tr th {\n",
       "        vertical-align: top;\n",
       "    }\n",
       "\n",
       "    .dataframe thead th {\n",
       "        text-align: right;\n",
       "    }\n",
       "</style>\n",
       "<table border=\"1\" class=\"dataframe\">\n",
       "  <thead>\n",
       "    <tr style=\"text-align: right;\">\n",
       "      <th></th>\n",
       "      <th>Name</th>\n",
       "      <th>Symbol</th>\n",
       "      <th>Last</th>\n",
       "      <th>Chg</th>\n",
       "      <th>Total_Assets</th>\n",
       "      <th>Time</th>\n",
       "    </tr>\n",
       "  </thead>\n",
       "  <tbody>\n",
       "    <tr>\n",
       "      <th>0</th>\n",
       "      <td>Amundi Euro Liquidity SRI IC C</td>\n",
       "      <td>0P0000.</td>\n",
       "      <td>249,580.888</td>\n",
       "      <td>0.01</td>\n",
       "      <td>53.84B</td>\n",
       "      <td>13/03</td>\n",
       "    </tr>\n",
       "    <tr>\n",
       "      <th>1</th>\n",
       "      <td>Carmignac Patrimoine A EUR Acc</td>\n",
       "      <td>0P0000.</td>\n",
       "      <td>713.930</td>\n",
       "      <td>-0.03</td>\n",
       "      <td>6.07B</td>\n",
       "      <td>13/03</td>\n",
       "    </tr>\n",
       "    <tr>\n",
       "      <th>2</th>\n",
       "      <td>Carmignac Patrimoine A EUR Ydis</td>\n",
       "      <td>0P0000.</td>\n",
       "      <td>116.710</td>\n",
       "      <td>-0.03</td>\n",
       "      <td>6.07B</td>\n",
       "      <td>13/03</td>\n",
       "    </tr>\n",
       "    <tr>\n",
       "      <th>3</th>\n",
       "      <td>Carmignac Patrimoine E EUR Acc</td>\n",
       "      <td>0P0000.</td>\n",
       "      <td>171.630</td>\n",
       "      <td>-0.03</td>\n",
       "      <td>6.07B</td>\n",
       "      <td>13/03</td>\n",
       "    </tr>\n",
       "    <tr>\n",
       "      <th>4</th>\n",
       "      <td>Carmignac Patrimoine A CHF Acc Hdg</td>\n",
       "      <td>0P0000.</td>\n",
       "      <td>115.010</td>\n",
       "      <td>-0.04</td>\n",
       "      <td>6.07B</td>\n",
       "      <td>13/03</td>\n",
       "    </tr>\n",
       "    <tr>\n",
       "      <th>...</th>\n",
       "      <td>...</td>\n",
       "      <td>...</td>\n",
       "      <td>...</td>\n",
       "      <td>...</td>\n",
       "      <td>...</td>\n",
       "      <td>...</td>\n",
       "    </tr>\n",
       "    <tr>\n",
       "      <th>95</th>\n",
       "      <td>ALM Offensif</td>\n",
       "      <td>0P0000.</td>\n",
       "      <td>312.050</td>\n",
       "      <td>0.56</td>\n",
       "      <td>1.12B</td>\n",
       "      <td>12/03</td>\n",
       "    </tr>\n",
       "    <tr>\n",
       "      <th>96</th>\n",
       "      <td>29 Haussmann Euro Rendement C</td>\n",
       "      <td>0P0000.</td>\n",
       "      <td>1,607.860</td>\n",
       "      <td>0.10</td>\n",
       "      <td>1.3B</td>\n",
       "      <td>12/03</td>\n",
       "    </tr>\n",
       "    <tr>\n",
       "      <th>97</th>\n",
       "      <td>Candriam Index Arbitrage Classique en EUR</td>\n",
       "      <td>0P0000.</td>\n",
       "      <td>1,518.920</td>\n",
       "      <td>-0.08</td>\n",
       "      <td>256.67M</td>\n",
       "      <td>13/03</td>\n",
       "    </tr>\n",
       "    <tr>\n",
       "      <th>98</th>\n",
       "      <td>BNP Paribas Actions Monde Classic</td>\n",
       "      <td>0P0000.</td>\n",
       "      <td>31.050</td>\n",
       "      <td>-0.22</td>\n",
       "      <td>1.36B</td>\n",
       "      <td>13/03</td>\n",
       "    </tr>\n",
       "    <tr>\n",
       "      <th>99</th>\n",
       "      <td>Natixis Ultra Short Term Bonds Plus SI C</td>\n",
       "      <td>0P0000.</td>\n",
       "      <td>1,711.680</td>\n",
       "      <td>-0.01</td>\n",
       "      <td>2.27B</td>\n",
       "      <td>13/03</td>\n",
       "    </tr>\n",
       "  </tbody>\n",
       "</table>\n",
       "<p>100 rows × 6 columns</p>\n",
       "</div>"
      ],
      "text/plain": [
       "                                         Name   Symbol         Last   Chg  \\\n",
       "0              Amundi Euro Liquidity SRI IC C  0P0000.  249,580.888  0.01   \n",
       "1              Carmignac Patrimoine A EUR Acc  0P0000.      713.930 -0.03   \n",
       "2             Carmignac Patrimoine A EUR Ydis  0P0000.      116.710 -0.03   \n",
       "3              Carmignac Patrimoine E EUR Acc  0P0000.      171.630 -0.03   \n",
       "4          Carmignac Patrimoine A CHF Acc Hdg  0P0000.      115.010 -0.04   \n",
       "..                                        ...      ...          ...   ...   \n",
       "95                               ALM Offensif  0P0000.      312.050  0.56   \n",
       "96              29 Haussmann Euro Rendement C  0P0000.    1,607.860  0.10   \n",
       "97  Candriam Index Arbitrage Classique en EUR  0P0000.    1,518.920 -0.08   \n",
       "98          BNP Paribas Actions Monde Classic  0P0000.       31.050 -0.22   \n",
       "99   Natixis Ultra Short Term Bonds Plus SI C  0P0000.    1,711.680 -0.01   \n",
       "\n",
       "   Total_Assets   Time  \n",
       "0        53.84B  13/03  \n",
       "1         6.07B  13/03  \n",
       "2         6.07B  13/03  \n",
       "3         6.07B  13/03  \n",
       "4         6.07B  13/03  \n",
       "..          ...    ...  \n",
       "95        1.12B  12/03  \n",
       "96         1.3B  12/03  \n",
       "97      256.67M  13/03  \n",
       "98        1.36B  13/03  \n",
       "99        2.27B  13/03  \n",
       "\n",
       "[100 rows x 6 columns]"
      ]
     },
     "metadata": {},
     "output_type": "display_data"
    }
   ],
   "source": [
    "funds_df = scrape_french_funds()\n",
    "\n",
    "if funds_df is not None:\n",
    "    print('French Companies Funds Data:')\n",
    "    display(funds_df)"
   ]
  },
  {
   "cell_type": "markdown",
   "metadata": {},
   "source": [
    "# Risk Analysis"
   ]
  },
  {
   "cell_type": "code",
   "execution_count": 4,
   "metadata": {},
   "outputs": [
    {
     "name": "stdout",
     "output_type": "stream",
     "text": [
      "Funds from Lowest to Highest Risk:\n"
     ]
    },
    {
     "data": {
      "application/vnd.microsoft.datawrangler.viewer.v0+json": {
       "columns": [
        {
         "name": "index",
         "rawType": "int64",
         "type": "integer"
        },
        {
         "name": "Name",
         "rawType": "object",
         "type": "string"
        },
        {
         "name": "Risk",
         "rawType": "float64",
         "type": "float"
        },
        {
         "name": "Total_Assets",
         "rawType": "object",
         "type": "string"
        },
        {
         "name": "Chg",
         "rawType": "float64",
         "type": "float"
        }
       ],
       "conversionMethod": "pd.DataFrame",
       "ref": "49c9d610-65d4-435c-a68e-7b41e2e938eb",
       "rows": [
        [
         "86",
         "Allianz Euro Oblig Court Terme ISR MC",
         "0.0",
         "15.42M",
         "0.0"
        ],
        [
         "0",
         "Amundi Euro Liquidity SRI IC C",
         "0.01",
         "53.84B",
         "0.01"
        ],
        [
         "13",
         "Groupama Entreprises R",
         "0.01",
         "6.25B",
         "0.01"
        ],
        [
         "5",
         "Carmignac Patrimoine A USD Acc Hdg",
         "0.01",
         "6.07B",
         "-0.01"
        ],
        [
         "12",
         "Groupama Entreprises IC",
         "0.01",
         "6.25B",
         "0.01"
        ],
        [
         "10",
         "Groupama Trésorerie M",
         "0.01",
         "7.75B",
         "0.01"
        ],
        [
         "9",
         "Groupama Trésorerie IC",
         "0.01",
         "7.75B",
         "0.01"
        ],
        [
         "14",
         "Groupama Entreprises N",
         "0.01",
         "6.25B",
         "0.01"
        ],
        [
         "28",
         "La Française Trésorerie ISR R",
         "0.01",
         "3.2B",
         "0.01"
        ],
        [
         "20",
         "Ofi RS Liquidités C/D",
         "0.01",
         "5.48B",
         "0.01"
        ],
        [
         "61",
         "CPR Oblig 12 Mois P",
         "0.01",
         "1.19B",
         "-0.01"
        ],
        [
         "44",
         "Swiss Life Funds F Bond Cash Equivalent I",
         "0.01",
         "2.13B",
         "0.01"
        ],
        [
         "66",
         "AXA Court Terme AC",
         "0.01",
         "4.53B",
         "0.01"
        ],
        [
         "99",
         "Natixis Ultra Short Term Bonds Plus SI C",
         "0.01",
         "2.27B",
         "-0.01"
        ],
        [
         "8",
         "Groupama Trֳ©sorerie R",
         "0.01",
         "7.75B",
         "0.01"
        ],
        [
         "19",
         "Amundi 12 M E",
         "0.02",
         "4.27B",
         "-0.02"
        ],
        [
         "62",
         "CPR Oblig 12 Mois I",
         "0.02",
         "1.19B",
         "-0.02"
        ],
        [
         "18",
         "Amundi 12 M I",
         "0.02",
         "4.27B",
         "-0.02"
        ],
        [
         "64",
         "CPR Croissance Réactive P",
         "0.02",
         "1.02B",
         "-0.02"
        ],
        [
         "87",
         "Allianz Euro Oblig Court Terme ISR I",
         "0.02",
         "120.91M",
         "0.02"
        ],
        [
         "69",
         "Union Obli Moyen Terme C",
         "0.02",
         "1.27B",
         "-0.02"
        ],
        [
         "6",
         "Carmignac Sécurité A EUR Ydis",
         "0.02",
         "4.95B",
         "0.02"
        ],
        [
         "7",
         "Carmignac Sécurité A EUR Acc",
         "0.02",
         "4.95B",
         "0.02"
        ],
        [
         "1",
         "Carmignac Patrimoine A EUR Acc",
         "0.03",
         "6.07B",
         "-0.03"
        ],
        [
         "39",
         "SG Flexible PC",
         "0.03",
         "2.38B",
         "0.03"
        ],
        [
         "3",
         "Carmignac Patrimoine E EUR Acc",
         "0.03",
         "6.07B",
         "-0.03"
        ],
        [
         "2",
         "Carmignac Patrimoine A EUR Ydis",
         "0.03",
         "6.07B",
         "-0.03"
        ],
        [
         "4",
         "Carmignac Patrimoine A CHF Acc Hdg",
         "0.04",
         "6.07B",
         "-0.04"
        ],
        [
         "83",
         "Aviva Investors Valorisation",
         "0.05",
         "1.47B",
         "-0.05"
        ],
        [
         "77",
         "R-co Euro Crédit C EUR",
         "0.05",
         "3.23B",
         "-0.05"
        ],
        [
         "55",
         "Impact ES Oblig Euro I",
         "0.05",
         "1.55B",
         "0.05"
        ],
        [
         "97",
         "Candriam Index Arbitrage Classique en EUR",
         "0.08",
         "256.67M",
         "-0.08"
        ],
        [
         "35",
         "Eurose C",
         "0.1",
         "2.68B",
         "-0.1"
        ],
        [
         "63",
         "CPR Croissance Réactive I",
         "0.1",
         "1.02B",
         "0.1"
        ],
        [
         "96",
         "29 Haussmann Euro Rendement C",
         "0.1",
         "1.3B",
         "0.1"
        ],
        [
         "47",
         "H2O Multibonds RC",
         "0.12",
         "1.7B",
         "0.12"
        ],
        [
         "17",
         "Lazard Convertible Global A",
         "0.12",
         "2.81B",
         "0.12"
        ],
        [
         "15",
         "Lazard Convertible Global R",
         "0.12",
         "2.81B",
         "0.12"
        ],
        [
         "32",
         "R Valor P EUR",
         "0.13",
         "6.25B",
         "-0.13"
        ],
        [
         "31",
         "R Valor C EUR",
         "0.14",
         "6.25B",
         "-0.14"
        ],
        [
         "29",
         "R Valor D EUR",
         "0.14",
         "6.25B",
         "-0.14"
        ],
        [
         "30",
         "R Valor F EUR",
         "0.14",
         "6.25B",
         "-0.14"
        ],
        [
         "51",
         "EdR SICAV - Financial Bonds B EUR",
         "0.19",
         "2.28B",
         "-0.19"
        ],
        [
         "92",
         "Aviva Conviction Patrimoine",
         "0.2",
         "1.39B",
         "-0.2"
        ],
        [
         "84",
         "Aviva Investors Conviction",
         "0.2",
         "1.56B",
         "-0.2"
        ],
        [
         "65",
         "ALM Classic",
         "0.21",
         "1.84B",
         "0.21"
        ],
        [
         "98",
         "BNP Paribas Actions Monde Classic",
         "0.22",
         "1.36B",
         "-0.22"
        ],
        [
         "56",
         "Amundi Label Equilibre Solidaire ESR F",
         "0.23",
         "1.99B",
         "-0.23"
        ],
        [
         "94",
         "SG Oblig Etat Euro R",
         "0.25",
         "957.45M",
         "-0.25"
        ],
        [
         "82",
         "Vega Euro Rendement RC",
         "0.28",
         "1.48B",
         "-0.28"
        ]
       ],
       "shape": {
        "columns": 4,
        "rows": 100
       }
      },
      "text/html": [
       "<div>\n",
       "<style scoped>\n",
       "    .dataframe tbody tr th:only-of-type {\n",
       "        vertical-align: middle;\n",
       "    }\n",
       "\n",
       "    .dataframe tbody tr th {\n",
       "        vertical-align: top;\n",
       "    }\n",
       "\n",
       "    .dataframe thead th {\n",
       "        text-align: right;\n",
       "    }\n",
       "</style>\n",
       "<table border=\"1\" class=\"dataframe\">\n",
       "  <thead>\n",
       "    <tr style=\"text-align: right;\">\n",
       "      <th></th>\n",
       "      <th>Name</th>\n",
       "      <th>Risk</th>\n",
       "      <th>Total_Assets</th>\n",
       "      <th>Chg</th>\n",
       "    </tr>\n",
       "  </thead>\n",
       "  <tbody>\n",
       "    <tr>\n",
       "      <th>86</th>\n",
       "      <td>Allianz Euro Oblig Court Terme ISR MC</td>\n",
       "      <td>0.00</td>\n",
       "      <td>15.42M</td>\n",
       "      <td>0.00</td>\n",
       "    </tr>\n",
       "    <tr>\n",
       "      <th>0</th>\n",
       "      <td>Amundi Euro Liquidity SRI IC C</td>\n",
       "      <td>0.01</td>\n",
       "      <td>53.84B</td>\n",
       "      <td>0.01</td>\n",
       "    </tr>\n",
       "    <tr>\n",
       "      <th>13</th>\n",
       "      <td>Groupama Entreprises R</td>\n",
       "      <td>0.01</td>\n",
       "      <td>6.25B</td>\n",
       "      <td>0.01</td>\n",
       "    </tr>\n",
       "    <tr>\n",
       "      <th>5</th>\n",
       "      <td>Carmignac Patrimoine A USD Acc Hdg</td>\n",
       "      <td>0.01</td>\n",
       "      <td>6.07B</td>\n",
       "      <td>-0.01</td>\n",
       "    </tr>\n",
       "    <tr>\n",
       "      <th>12</th>\n",
       "      <td>Groupama Entreprises IC</td>\n",
       "      <td>0.01</td>\n",
       "      <td>6.25B</td>\n",
       "      <td>0.01</td>\n",
       "    </tr>\n",
       "    <tr>\n",
       "      <th>...</th>\n",
       "      <td>...</td>\n",
       "      <td>...</td>\n",
       "      <td>...</td>\n",
       "      <td>...</td>\n",
       "    </tr>\n",
       "    <tr>\n",
       "      <th>85</th>\n",
       "      <td>Ofi Financial Investment - Precious Metals R</td>\n",
       "      <td>1.26</td>\n",
       "      <td>525.61M</td>\n",
       "      <td>1.26</td>\n",
       "    </tr>\n",
       "    <tr>\n",
       "      <th>48</th>\n",
       "      <td>H2O Multibonds FCP NEUR C</td>\n",
       "      <td>2.01</td>\n",
       "      <td>1.28B</td>\n",
       "      <td>2.01</td>\n",
       "    </tr>\n",
       "    <tr>\n",
       "      <th>45</th>\n",
       "      <td>H2O Multibonds FCP IEUR C</td>\n",
       "      <td>2.02</td>\n",
       "      <td>1.28B</td>\n",
       "      <td>2.02</td>\n",
       "    </tr>\n",
       "    <tr>\n",
       "      <th>46</th>\n",
       "      <td>H2O Multibonds FCP SREUR C</td>\n",
       "      <td>2.02</td>\n",
       "      <td>1.28B</td>\n",
       "      <td>2.02</td>\n",
       "    </tr>\n",
       "    <tr>\n",
       "      <th>43</th>\n",
       "      <td>Credit Suisse Lux Global Robotics Equity Fund ...</td>\n",
       "      <td>2.36</td>\n",
       "      <td>1.14B</td>\n",
       "      <td>-2.36</td>\n",
       "    </tr>\n",
       "  </tbody>\n",
       "</table>\n",
       "<p>100 rows × 4 columns</p>\n",
       "</div>"
      ],
      "text/plain": [
       "                                                 Name  Risk Total_Assets   Chg\n",
       "86              Allianz Euro Oblig Court Terme ISR MC  0.00       15.42M  0.00\n",
       "0                      Amundi Euro Liquidity SRI IC C  0.01       53.84B  0.01\n",
       "13                             Groupama Entreprises R  0.01        6.25B  0.01\n",
       "5                  Carmignac Patrimoine A USD Acc Hdg  0.01        6.07B -0.01\n",
       "12                            Groupama Entreprises IC  0.01        6.25B  0.01\n",
       "..                                                ...   ...          ...   ...\n",
       "85       Ofi Financial Investment - Precious Metals R  1.26      525.61M  1.26\n",
       "48                          H2O Multibonds FCP NEUR C  2.01        1.28B  2.01\n",
       "45                          H2O Multibonds FCP IEUR C  2.02        1.28B  2.02\n",
       "46                         H2O Multibonds FCP SREUR C  2.02        1.28B  2.02\n",
       "43  Credit Suisse Lux Global Robotics Equity Fund ...  2.36        1.14B -2.36\n",
       "\n",
       "[100 rows x 4 columns]"
      ]
     },
     "metadata": {},
     "output_type": "display_data"
    }
   ],
   "source": [
    "funds_df['Risk'] = funds_df['Chg'].abs()\n",
    "sorted_df = funds_df.sort_values(by='Risk', ascending=True)\n",
    "\n",
    "print(\"Funds from Lowest to Highest Risk:\")\n",
    "display(sorted_df[['Name', 'Risk', 'Total_Assets', 'Chg']])"
   ]
  },
  {
   "cell_type": "code",
   "execution_count": 5,
   "metadata": {},
   "outputs": [
    {
     "name": "stdout",
     "output_type": "stream",
     "text": [
      "Top 5 Best Performing Funds (by Rate of Change):\n",
      "                                        Name  Chg\n",
      "                   H2O Multibonds FCP IEUR C 2.02\n",
      "                  H2O Multibonds FCP SREUR C 2.02\n",
      "                   H2O Multibonds FCP NEUR C 2.01\n",
      "Ofi Financial Investment - Precious Metals R 1.26\n",
      "                   H2O Multibonds FCP RUSD C 1.12\n"
     ]
    }
   ],
   "source": [
    "# Top 5 funds with the highest returns\n",
    "top5_retuns = funds_df.sort_values(by='Chg', ascending=False).head(5)[['Name', 'Chg']]\n",
    "\n",
    "print(\"Top 5 Best Performing Funds (by Rate of Change):\")\n",
    "print(top5_retuns.to_string(index=False))"
   ]
  },
  {
   "cell_type": "code",
   "execution_count": 6,
   "metadata": {},
   "outputs": [
    {
     "name": "stdout",
     "output_type": "stream",
     "text": [
      "\n",
      " Top 5 Least Risky Funds:\n",
      "                                 Name  Risk\n",
      "Allianz Euro Oblig Court Terme ISR MC  0.00\n",
      "       Amundi Euro Liquidity SRI IC C  0.01\n",
      "               Groupama Entreprises R  0.01\n",
      "   Carmignac Patrimoine A USD Acc Hdg  0.01\n",
      "              Groupama Entreprises IC  0.01\n"
     ]
    }
   ],
   "source": [
    "# Top 5 funds with the lowest risk\n",
    "top5_lowest_risk = funds_df.sort_values(by='Risk', ascending=True).head(5)[['Name', 'Risk']]\n",
    "\n",
    "print(\"\\n Top 5 Least Risky Funds:\")\n",
    "print(top5_lowest_risk.to_string(index=False))"
   ]
  },
  {
   "cell_type": "markdown",
   "metadata": {},
   "source": [
    "# Optimized Comparison of the French Funds"
   ]
  },
  {
   "cell_type": "code",
   "execution_count": 7,
   "metadata": {},
   "outputs": [
    {
     "data": {
      "application/vnd.plotly.v1+json": {
       "config": {
        "plotlyServerURL": "https://plot.ly"
       },
       "data": [
        {
         "hovertemplate": "<b>%{hovertext}</b><br><br>Risk Level=%{marker.color}<br>Change Rate=%{y}<br>Total_Assets=%{marker.size}<extra></extra>",
         "hovertext": [
          "Amundi Euro Liquidity SRI IC C",
          "Carmignac Patrimoine A EUR Acc",
          "Carmignac Patrimoine A EUR Ydis",
          "Carmignac Patrimoine E EUR Acc",
          "Carmignac Patrimoine A CHF Acc Hdg",
          "Carmignac Patrimoine A USD Acc Hdg",
          "Carmignac Sécurité A EUR Ydis",
          "Carmignac Sécurité A EUR Acc",
          "Groupama Trֳ©sorerie R",
          "Groupama Trésorerie IC",
          "Groupama Trésorerie M",
          "Afer-Sfer",
          "Groupama Entreprises IC",
          "Groupama Entreprises R",
          "Groupama Entreprises N",
          "Lazard Convertible Global R",
          "Lazard Convertible Global PC H-EUR",
          "Lazard Convertible Global A",
          "Amundi 12 M I",
          "Amundi 12 M E",
          "Ofi RS Liquidités C/D",
          "BNP Paribas Aqua I",
          "BNP Paribas Aqua Classic",
          "Comgest Renaissance Europe Z",
          "Renaissance Europe I",
          "Renaissance Europe C",
          "Carmignac Investissement E EUR Acc",
          "Carmignac Investissement A EUR Acc",
          "La Française Trésorerie ISR R",
          "R Valor D EUR",
          "R Valor F EUR",
          "R Valor C EUR",
          "R Valor P EUR",
          "Moneta Multi Caps D",
          "Moneta Multi Caps C",
          "Eurose C",
          "Comgest Monde I",
          "Comgest Monde C",
          "Comgest Monde Z",
          "SG Flexible PC",
          "CM-CIC Europe Growth C",
          "Afer Actions Euro A",
          "Afer Actions Euro I",
          "Credit Suisse Lux Global Robotics Equity Fund B US",
          "Swiss Life Funds F Bond Cash Equivalent I",
          "H2O Multibonds FCP IEUR C",
          "H2O Multibonds FCP SREUR C",
          "H2O Multibonds RC",
          "H2O Multibonds FCP NEUR C",
          "H2O Multibonds FCP RUSD C",
          "CPR Silver Age E",
          "EdR SICAV - Financial Bonds B EUR",
          "Echiquier Agenor Mid Cap Europe A",
          "Echiquier Agenor I",
          "Echiquier Agenor G",
          "Impact ES Oblig Euro I",
          "Amundi Label Equilibre Solidaire ESR F",
          "Oddo Avenir Europe CN-EUR",
          "Oddo Avenir Europe CR-EUR",
          "Oddo Avenir Europe DR-EUR",
          "Oddo Avenir Europe CI-EUR",
          "CPR Oblig 12 Mois P",
          "CPR Oblig 12 Mois I",
          "CPR Croissance Réactive I",
          "CPR Croissance Réactive P",
          "ALM Classic",
          "AXA Court Terme AC",
          "BNP Paribas Développement Humain I",
          "BNP Paribas Développement Humain Classic",
          "Union Obli Moyen Terme C",
          "Amundi Resa Actions Internationales C",
          "Vivaccio Actions GMO Actions",
          "Vivaccio Actions Vivaccio Actions",
          "Flexigestion Patrimoine",
          "HSBC Sustainable Global Equity I",
          "HSBC Sustainable Global Equity G",
          "Groupama Equilibre I",
          "R-co Euro Crédit C EUR",
          "CPR USA O",
          "CPR USA I",
          "Afer Actions Monde",
          "Groupama Expansion",
          "Vega Euro Rendement RC",
          "Aviva Investors Valorisation",
          "Aviva Investors Conviction",
          "Ofi Financial Investment - Precious Metals R",
          "Allianz Euro Oblig Court Terme ISR MC",
          "Allianz Euro Oblig Court Terme ISR I",
          "ALM Dynamic",
          "Groupama Avenir Euro I",
          "Groupama Avenir Euro MC",
          "Groupama Avenir Euro N",
          "Aviva Conviction Patrimoine",
          "BDL Convictions",
          "SG Oblig Etat Euro R",
          "ALM Offensif",
          "29 Haussmann Euro Rendement C",
          "Candriam Index Arbitrage Classique en EUR",
          "BNP Paribas Actions Monde Classic",
          "Natixis Ultra Short Term Bonds Plus SI C"
         ],
         "legendgroup": "",
         "marker": {
          "color": {
           "bdata": "exSuR+F6hD+4HoXrUbieP7gehetRuJ4/uB6F61G4nj97FK5H4XqkP3sUrkfheoQ/exSuR+F6lD97FK5H4XqUP3sUrkfheoQ/exSuR+F6hD97FK5H4XqEP5qZmZmZmdk/exSuR+F6hD97FK5H4XqEP3sUrkfheoQ/uB6F61G4vj/hehSuR+HaP7gehetRuL4/exSuR+F6lD97FK5H4XqUP3sUrkfheoQ/16NwPQrX0z/Xo3A9CtfTPxSuR+F6FOY/w/UoXI/C5T8UrkfhehTmP+F6FK5H4do/PQrXo3A92j97FK5H4XqEP+xRuB6F68E/7FG4HoXrwT/sUbgehevBP6RwPQrXo8A/FK5H4XoU3j8UrkfhehTeP5qZmZmZmbk/ZmZmZmZm5j9mZmZmZmbmP7gehetRuOY/uB6F61G4nj8pXI/C9SjcP4/C9Shcj+I/j8L1KFyP4j/hehSuR+ECQHsUrkfheoQ/KVyPwvUoAEApXI/C9SgAQLgehetRuL4/FK5H4XoUAEDsUbgehevxP6RwPQrXo/A/UrgehetRyD+F61G4HoXrP4XrUbgehes/hetRuB6F6z+amZmZmZmpP3E9CtejcM0/FK5H4XoU7j8UrkfhehTuPxSuR+F6FO4/FK5H4XoU7j97FK5H4XqEP3sUrkfhepQ/mpmZmZmZuT97FK5H4XqUP+F6FK5H4co/exSuR+F6hD/Xo3A9CtfTP9ejcD0K19M/exSuR+F6lD+amZmZmZnhP/YoXI/C9dg/9ihcj8L12D89CtejcD3aP83MzMzMzNw/exSuR+F65D/Xo3A9CtfTP5qZmZmZmak/hetRuB6F2z+F61G4HoXbP3sUrkfheuQ/16NwPQrX0z/sUbgehevRP5qZmZmZmak/mpmZmZmZyT8pXI/C9Sj0PwAAAAAAAAAAexSuR+F6lD+uR+F6FK7XP6RwPQrXo/A/pHA9Ctej8D+kcD0K16PwP5qZmZmZmck/mpmZmZmZ8T8AAAAAAADQP+xRuB6F6+E/mpmZmZmZuT97FK5H4Xq0Pylcj8L1KMw/exSuR+F6hD8=",
           "dtype": "f8"
          },
          "coloraxis": "coloraxis",
          "size": {
           "bdata": "AAAAaDoSKUIAAACYzZz2QQAAAJjNnPZBAAAAmM2c9kEAAACYzZz2QQAAAJjNnPZBAAAAGLBw8kEAAAAYsHDyQQAAANj53vxBAAAA2Pne/EEAAADY+d78QQAAAJgZ2PFBAAAA6HZI90EAAADodkj3QQAAAOh2SPdBAAAAUKbv5EEAAABQpu/kQQAAAFCm7+RB////72DQ70H////vYNDvQQAAAKAiavRBAAAAgBpw6EEAAACAGnDoQQAAAOAhe+lBAAAA4CF76UEAAADgIXvpQQAAABA8mepBAAAAEDyZ6kEAAAAAhNfnQQAAAOh2SPdBAAAA6HZI90EAAADodkj3QQAAAOh2SPdBAAAAYF6x10EAAABgXrHXQQAAAMCx9+NBAAAAwITG4kEAAADAhMbiQQAAAMCExuJBAAAAYH274UH////f1T/eQQAAAJA9d+BBAAAAkD134EEAAABAwfzQQQAAACBOvd9BAAAAANAS00EAAAAA0BLTQQAAAED8VNlBAAAAANAS00EAAAAA0BLTQQAAAOATVNJBAAAAQMH84EEAAADAC1rWQQAAAMALWtZBAAAAwAta1kEAAADgxxjXQQAAAGA/p91BAAAAIF+g0kEAAAAgX6DSQQAAACBfoNJBAAAAIF+g0kEAAABgfbvRQQAAAGB9u9FBAAAAgPtlzkEAAACA+2XOQQAAAAALa9tBAAAACCXg8EEAAABgi+LYQQAAAGCL4thBAAAAYKrs0kEAAABgXrHXQQAAAGCq7NJBAAAAYKrs0kEAAACo2zjGQQAAAAALa9tBAAAAAAtr20EAAABQux7HQQAAAHC8EOhBAAAAYLgT2kEAAABguBPaQQAAAACxCNlBAAAAgPtlzkEAAACAwA3WQQAAAOCa59VBAAAAgO0+10EAAAAQLFS/QQAAAABMaW1BAAAAwMLTnEEAAAAAo+HRQQAAAFAOl7lBAAAAUA6XuUEAAABQDpe5QQAAAOBtttRBAAAAAJL+zkEAAACIw4jMQQAAAAB2sNBBAAAAQBtf00EBAABg8piuQQAAAAD9Q9RBAAAAcK7p4EE=",
           "dtype": "f8"
          },
          "sizemode": "area",
          "sizeref": 33650000,
          "symbol": "circle"
         },
         "mode": "markers",
         "name": "",
         "orientation": "v",
         "showlegend": false,
         "type": "scatter",
         "x": {
          "bdata": "exSuR+F6hD+4HoXrUbieP7gehetRuJ4/uB6F61G4nj97FK5H4XqkP3sUrkfheoQ/exSuR+F6lD97FK5H4XqUP3sUrkfheoQ/exSuR+F6hD97FK5H4XqEP5qZmZmZmdk/exSuR+F6hD97FK5H4XqEP3sUrkfheoQ/uB6F61G4vj/hehSuR+HaP7gehetRuL4/exSuR+F6lD97FK5H4XqUP3sUrkfheoQ/16NwPQrX0z/Xo3A9CtfTPxSuR+F6FOY/w/UoXI/C5T8UrkfhehTmP+F6FK5H4do/PQrXo3A92j97FK5H4XqEP+xRuB6F68E/7FG4HoXrwT/sUbgehevBP6RwPQrXo8A/FK5H4XoU3j8UrkfhehTeP5qZmZmZmbk/ZmZmZmZm5j9mZmZmZmbmP7gehetRuOY/uB6F61G4nj8pXI/C9SjcP4/C9Shcj+I/j8L1KFyP4j/hehSuR+ECQHsUrkfheoQ/KVyPwvUoAEApXI/C9SgAQLgehetRuL4/FK5H4XoUAEDsUbgehevxP6RwPQrXo/A/UrgehetRyD+F61G4HoXrP4XrUbgehes/hetRuB6F6z+amZmZmZmpP3E9CtejcM0/FK5H4XoU7j8UrkfhehTuPxSuR+F6FO4/FK5H4XoU7j97FK5H4XqEP3sUrkfhepQ/mpmZmZmZuT97FK5H4XqUP+F6FK5H4co/exSuR+F6hD/Xo3A9CtfTP9ejcD0K19M/exSuR+F6lD+amZmZmZnhP/YoXI/C9dg/9ihcj8L12D89CtejcD3aP83MzMzMzNw/exSuR+F65D/Xo3A9CtfTP5qZmZmZmak/hetRuB6F2z+F61G4HoXbP3sUrkfheuQ/16NwPQrX0z/sUbgehevRP5qZmZmZmak/mpmZmZmZyT8pXI/C9Sj0PwAAAAAAAAAAexSuR+F6lD+uR+F6FK7XP6RwPQrXo/A/pHA9Ctej8D+kcD0K16PwP5qZmZmZmck/mpmZmZmZ8T8AAAAAAADQP+xRuB6F6+E/mpmZmZmZuT97FK5H4Xq0Pylcj8L1KMw/exSuR+F6hD8=",
          "dtype": "f8"
         },
         "xaxis": "x",
         "y": {
          "bdata": "exSuR+F6hD+4HoXrUbiev7gehetRuJ6/uB6F61G4nr97FK5H4Xqkv3sUrkfheoS/exSuR+F6lD97FK5H4XqUP3sUrkfheoQ/exSuR+F6hD97FK5H4XqEP5qZmZmZmdm/exSuR+F6hD97FK5H4XqEP3sUrkfheoQ/uB6F61G4vj/hehSuR+Hav7gehetRuL4/exSuR+F6lL97FK5H4XqUv3sUrkfheoQ/16NwPQrX07/Xo3A9CtfTvxSuR+F6FOa/w/UoXI/C5b8UrkfhehTmv+F6FK5H4dq/PQrXo3A92r97FK5H4XqEP+xRuB6F68G/7FG4HoXrwb/sUbgehevBv6RwPQrXo8C/FK5H4XoU3r8UrkfhehTev5qZmZmZmbm/ZmZmZmZm5r9mZmZmZmbmv7gehetRuOa/uB6F61G4nj8pXI/C9SjcP4/C9Shcj+K/j8L1KFyP4r/hehSuR+ECwHsUrkfheoQ/KVyPwvUoAEApXI/C9SgAQLgehetRuL4/FK5H4XoUAEDsUbgehevxP6RwPQrXo/A/UrgehetRyL+F61G4HoXrv4XrUbgeheu/hetRuB6F67+amZmZmZmpP3E9CtejcM2/FK5H4XoU7r8UrkfhehTuvxSuR+F6FO6/FK5H4XoU7r97FK5H4XqEv3sUrkfhepS/mpmZmZmZuT97FK5H4XqUv+F6FK5H4co/exSuR+F6hD/Xo3A9CtfTv9ejcD0K19O/exSuR+F6lL+amZmZmZnhP/YoXI/C9di/9ihcj8L12L89CtejcD3aP83MzMzMzNw/exSuR+F65L/Xo3A9CtfTP5qZmZmZmam/hetRuB6F2z+F61G4HoXbP3sUrkfheuS/16NwPQrX0z/sUbgehevRv5qZmZmZmam/mpmZmZmZyb8pXI/C9Sj0PwAAAAAAAAAAexSuR+F6lD+uR+F6FK7XP6RwPQrXo/C/pHA9Ctej8L+kcD0K16Pwv5qZmZmZmcm/mpmZmZmZ8b8AAAAAAADQv+xRuB6F6+E/mpmZmZmZuT97FK5H4Xq0vylcj8L1KMy/exSuR+F6hL8=",
          "dtype": "f8"
         },
         "yaxis": "y"
        }
       ],
       "layout": {
        "annotations": [
         {
          "arrowhead": 1,
          "ax": 30,
          "ay": -40,
          "bgcolor": "rgba(255,255,255,0.8)",
          "font": {
           "color": "firebrick",
           "size": 10
          },
          "showarrow": true,
          "text": "Credit Suisse Lux Global Robotics Equity Fund B US",
          "textangle": 45,
          "x": 2.36,
          "y": -2.36
         },
         {
          "arrowhead": 1,
          "ax": -30,
          "ay": -40,
          "bgcolor": "rgba(255,255,255,0.8)",
          "font": {
           "color": "firebrick",
           "size": 10
          },
          "showarrow": true,
          "text": "H2O Multibonds FCP IEUR C",
          "textangle": 0,
          "x": 2.02,
          "y": 2.02
         },
         {
          "arrowhead": 1,
          "ax": 30,
          "ay": -40,
          "bgcolor": "rgba(255,255,255,0.8)",
          "font": {
           "color": "firebrick",
           "size": 10
          },
          "showarrow": true,
          "text": "H2O Multibonds FCP SREUR C",
          "textangle": 45,
          "x": 2.02,
          "y": 2.02
         },
         {
          "arrowhead": 1,
          "ax": -30,
          "ay": -40,
          "bgcolor": "rgba(255,255,255,0.8)",
          "font": {
           "color": "firebrick",
           "size": 10
          },
          "showarrow": true,
          "text": "H2O Multibonds FCP NEUR C",
          "textangle": 0,
          "x": 2.01,
          "y": 2.01
         },
         {
          "arrowhead": 1,
          "ax": 30,
          "ay": -40,
          "bgcolor": "rgba(255,255,255,0.8)",
          "font": {
           "color": "firebrick",
           "size": 10
          },
          "showarrow": true,
          "text": "Ofi Financial Investment - Precious Metals R",
          "textangle": 45,
          "x": 1.26,
          "y": 1.26
         },
         {
          "arrowhead": 1,
          "ax": 30,
          "ay": -40,
          "bgcolor": "rgba(255,255,255,0.8)",
          "font": {
           "color": "firebrick",
           "size": 10
          },
          "showarrow": true,
          "text": "H2O Multibonds FCP RUSD C",
          "textangle": 45,
          "x": 1.12,
          "y": 1.12
         },
         {
          "arrowhead": 1,
          "ax": -30,
          "ay": -40,
          "bgcolor": "rgba(255,255,255,0.8)",
          "font": {
           "color": "firebrick",
           "size": 10
          },
          "showarrow": true,
          "text": "BDL Convictions",
          "textangle": 0,
          "x": 1.1,
          "y": -1.1
         },
         {
          "arrowhead": 1,
          "ax": 0,
          "ay": 40,
          "bgcolor": "rgba(255,255,255,0.8)",
          "font": {
           "color": "firebrick",
           "size": 10
          },
          "showarrow": true,
          "text": "CPR Silver Age E",
          "textangle": 0,
          "x": 1.04,
          "y": 1.04
         },
         {
          "arrowhead": 1,
          "ax": 0,
          "ay": 40,
          "bgcolor": "rgba(255,255,255,0.8)",
          "font": {
           "color": "firebrick",
           "size": 10
          },
          "showarrow": true,
          "text": "Groupama Avenir Euro I",
          "textangle": 0,
          "x": 1.04,
          "y": -1.04
         },
         {
          "arrowhead": 1,
          "ax": -30,
          "ay": -40,
          "bgcolor": "rgba(255,255,255,0.8)",
          "font": {
           "color": "firebrick",
           "size": 10
          },
          "showarrow": true,
          "text": "Groupama Avenir Euro MC",
          "textangle": 0,
          "x": 1.04,
          "y": -1.04
         },
         {
          "arrowhead": 1,
          "ax": 30,
          "ay": -40,
          "bgcolor": "rgba(255,255,255,0.8)",
          "font": {
           "color": "firebrick",
           "size": 10
          },
          "showarrow": true,
          "text": "Groupama Avenir Euro N",
          "textangle": 45,
          "x": 1.04,
          "y": -1.04
         },
         {
          "arrowhead": 2,
          "ax": 50,
          "ay": -60,
          "bordercolor": "black",
          "borderwidth": 1,
          "font": {
           "color": "darkblue",
           "family": "Arial Black",
           "size": 12
          },
          "showarrow": true,
          "text": "BDL Convictions",
          "x": 1.1,
          "y": -1.1
         }
        ],
        "coloraxis": {
         "colorbar": {
          "title": {
           "text": "Risk Level"
          }
         },
         "colorscale": [
          [
           0,
           "#440154"
          ],
          [
           0.1111111111111111,
           "#482878"
          ],
          [
           0.2222222222222222,
           "#3e4989"
          ],
          [
           0.3333333333333333,
           "#31688e"
          ],
          [
           0.4444444444444444,
           "#26828e"
          ],
          [
           0.5555555555555556,
           "#1f9e89"
          ],
          [
           0.6666666666666666,
           "#35b779"
          ],
          [
           0.7777777777777778,
           "#6ece58"
          ],
          [
           0.8888888888888888,
           "#b5de2b"
          ],
          [
           1,
           "#fde725"
          ]
         ]
        },
        "height": 800,
        "hoverlabel": {
         "bgcolor": "white",
         "font": {
          "family": "Arial",
          "size": 12
         }
        },
        "legend": {
         "itemsizing": "constant",
         "tracegroupgap": 0
        },
        "template": {
         "data": {
          "bar": [
           {
            "error_x": {
             "color": "#2a3f5f"
            },
            "error_y": {
             "color": "#2a3f5f"
            },
            "marker": {
             "line": {
              "color": "#E5ECF6",
              "width": 0.5
             },
             "pattern": {
              "fillmode": "overlay",
              "size": 10,
              "solidity": 0.2
             }
            },
            "type": "bar"
           }
          ],
          "barpolar": [
           {
            "marker": {
             "line": {
              "color": "#E5ECF6",
              "width": 0.5
             },
             "pattern": {
              "fillmode": "overlay",
              "size": 10,
              "solidity": 0.2
             }
            },
            "type": "barpolar"
           }
          ],
          "carpet": [
           {
            "aaxis": {
             "endlinecolor": "#2a3f5f",
             "gridcolor": "white",
             "linecolor": "white",
             "minorgridcolor": "white",
             "startlinecolor": "#2a3f5f"
            },
            "baxis": {
             "endlinecolor": "#2a3f5f",
             "gridcolor": "white",
             "linecolor": "white",
             "minorgridcolor": "white",
             "startlinecolor": "#2a3f5f"
            },
            "type": "carpet"
           }
          ],
          "choropleth": [
           {
            "colorbar": {
             "outlinewidth": 0,
             "ticks": ""
            },
            "type": "choropleth"
           }
          ],
          "contour": [
           {
            "colorbar": {
             "outlinewidth": 0,
             "ticks": ""
            },
            "colorscale": [
             [
              0,
              "#0d0887"
             ],
             [
              0.1111111111111111,
              "#46039f"
             ],
             [
              0.2222222222222222,
              "#7201a8"
             ],
             [
              0.3333333333333333,
              "#9c179e"
             ],
             [
              0.4444444444444444,
              "#bd3786"
             ],
             [
              0.5555555555555556,
              "#d8576b"
             ],
             [
              0.6666666666666666,
              "#ed7953"
             ],
             [
              0.7777777777777778,
              "#fb9f3a"
             ],
             [
              0.8888888888888888,
              "#fdca26"
             ],
             [
              1,
              "#f0f921"
             ]
            ],
            "type": "contour"
           }
          ],
          "contourcarpet": [
           {
            "colorbar": {
             "outlinewidth": 0,
             "ticks": ""
            },
            "type": "contourcarpet"
           }
          ],
          "heatmap": [
           {
            "colorbar": {
             "outlinewidth": 0,
             "ticks": ""
            },
            "colorscale": [
             [
              0,
              "#0d0887"
             ],
             [
              0.1111111111111111,
              "#46039f"
             ],
             [
              0.2222222222222222,
              "#7201a8"
             ],
             [
              0.3333333333333333,
              "#9c179e"
             ],
             [
              0.4444444444444444,
              "#bd3786"
             ],
             [
              0.5555555555555556,
              "#d8576b"
             ],
             [
              0.6666666666666666,
              "#ed7953"
             ],
             [
              0.7777777777777778,
              "#fb9f3a"
             ],
             [
              0.8888888888888888,
              "#fdca26"
             ],
             [
              1,
              "#f0f921"
             ]
            ],
            "type": "heatmap"
           }
          ],
          "histogram": [
           {
            "marker": {
             "pattern": {
              "fillmode": "overlay",
              "size": 10,
              "solidity": 0.2
             }
            },
            "type": "histogram"
           }
          ],
          "histogram2d": [
           {
            "colorbar": {
             "outlinewidth": 0,
             "ticks": ""
            },
            "colorscale": [
             [
              0,
              "#0d0887"
             ],
             [
              0.1111111111111111,
              "#46039f"
             ],
             [
              0.2222222222222222,
              "#7201a8"
             ],
             [
              0.3333333333333333,
              "#9c179e"
             ],
             [
              0.4444444444444444,
              "#bd3786"
             ],
             [
              0.5555555555555556,
              "#d8576b"
             ],
             [
              0.6666666666666666,
              "#ed7953"
             ],
             [
              0.7777777777777778,
              "#fb9f3a"
             ],
             [
              0.8888888888888888,
              "#fdca26"
             ],
             [
              1,
              "#f0f921"
             ]
            ],
            "type": "histogram2d"
           }
          ],
          "histogram2dcontour": [
           {
            "colorbar": {
             "outlinewidth": 0,
             "ticks": ""
            },
            "colorscale": [
             [
              0,
              "#0d0887"
             ],
             [
              0.1111111111111111,
              "#46039f"
             ],
             [
              0.2222222222222222,
              "#7201a8"
             ],
             [
              0.3333333333333333,
              "#9c179e"
             ],
             [
              0.4444444444444444,
              "#bd3786"
             ],
             [
              0.5555555555555556,
              "#d8576b"
             ],
             [
              0.6666666666666666,
              "#ed7953"
             ],
             [
              0.7777777777777778,
              "#fb9f3a"
             ],
             [
              0.8888888888888888,
              "#fdca26"
             ],
             [
              1,
              "#f0f921"
             ]
            ],
            "type": "histogram2dcontour"
           }
          ],
          "mesh3d": [
           {
            "colorbar": {
             "outlinewidth": 0,
             "ticks": ""
            },
            "type": "mesh3d"
           }
          ],
          "parcoords": [
           {
            "line": {
             "colorbar": {
              "outlinewidth": 0,
              "ticks": ""
             }
            },
            "type": "parcoords"
           }
          ],
          "pie": [
           {
            "automargin": true,
            "type": "pie"
           }
          ],
          "scatter": [
           {
            "fillpattern": {
             "fillmode": "overlay",
             "size": 10,
             "solidity": 0.2
            },
            "type": "scatter"
           }
          ],
          "scatter3d": [
           {
            "line": {
             "colorbar": {
              "outlinewidth": 0,
              "ticks": ""
             }
            },
            "marker": {
             "colorbar": {
              "outlinewidth": 0,
              "ticks": ""
             }
            },
            "type": "scatter3d"
           }
          ],
          "scattercarpet": [
           {
            "marker": {
             "colorbar": {
              "outlinewidth": 0,
              "ticks": ""
             }
            },
            "type": "scattercarpet"
           }
          ],
          "scattergeo": [
           {
            "marker": {
             "colorbar": {
              "outlinewidth": 0,
              "ticks": ""
             }
            },
            "type": "scattergeo"
           }
          ],
          "scattergl": [
           {
            "marker": {
             "colorbar": {
              "outlinewidth": 0,
              "ticks": ""
             }
            },
            "type": "scattergl"
           }
          ],
          "scattermap": [
           {
            "marker": {
             "colorbar": {
              "outlinewidth": 0,
              "ticks": ""
             }
            },
            "type": "scattermap"
           }
          ],
          "scattermapbox": [
           {
            "marker": {
             "colorbar": {
              "outlinewidth": 0,
              "ticks": ""
             }
            },
            "type": "scattermapbox"
           }
          ],
          "scatterpolar": [
           {
            "marker": {
             "colorbar": {
              "outlinewidth": 0,
              "ticks": ""
             }
            },
            "type": "scatterpolar"
           }
          ],
          "scatterpolargl": [
           {
            "marker": {
             "colorbar": {
              "outlinewidth": 0,
              "ticks": ""
             }
            },
            "type": "scatterpolargl"
           }
          ],
          "scatterternary": [
           {
            "marker": {
             "colorbar": {
              "outlinewidth": 0,
              "ticks": ""
             }
            },
            "type": "scatterternary"
           }
          ],
          "surface": [
           {
            "colorbar": {
             "outlinewidth": 0,
             "ticks": ""
            },
            "colorscale": [
             [
              0,
              "#0d0887"
             ],
             [
              0.1111111111111111,
              "#46039f"
             ],
             [
              0.2222222222222222,
              "#7201a8"
             ],
             [
              0.3333333333333333,
              "#9c179e"
             ],
             [
              0.4444444444444444,
              "#bd3786"
             ],
             [
              0.5555555555555556,
              "#d8576b"
             ],
             [
              0.6666666666666666,
              "#ed7953"
             ],
             [
              0.7777777777777778,
              "#fb9f3a"
             ],
             [
              0.8888888888888888,
              "#fdca26"
             ],
             [
              1,
              "#f0f921"
             ]
            ],
            "type": "surface"
           }
          ],
          "table": [
           {
            "cells": {
             "fill": {
              "color": "#EBF0F8"
             },
             "line": {
              "color": "white"
             }
            },
            "header": {
             "fill": {
              "color": "#C8D4E3"
             },
             "line": {
              "color": "white"
             }
            },
            "type": "table"
           }
          ]
         },
         "layout": {
          "annotationdefaults": {
           "arrowcolor": "#2a3f5f",
           "arrowhead": 0,
           "arrowwidth": 1
          },
          "autotypenumbers": "strict",
          "coloraxis": {
           "colorbar": {
            "outlinewidth": 0,
            "ticks": ""
           }
          },
          "colorscale": {
           "diverging": [
            [
             0,
             "#8e0152"
            ],
            [
             0.1,
             "#c51b7d"
            ],
            [
             0.2,
             "#de77ae"
            ],
            [
             0.3,
             "#f1b6da"
            ],
            [
             0.4,
             "#fde0ef"
            ],
            [
             0.5,
             "#f7f7f7"
            ],
            [
             0.6,
             "#e6f5d0"
            ],
            [
             0.7,
             "#b8e186"
            ],
            [
             0.8,
             "#7fbc41"
            ],
            [
             0.9,
             "#4d9221"
            ],
            [
             1,
             "#276419"
            ]
           ],
           "sequential": [
            [
             0,
             "#0d0887"
            ],
            [
             0.1111111111111111,
             "#46039f"
            ],
            [
             0.2222222222222222,
             "#7201a8"
            ],
            [
             0.3333333333333333,
             "#9c179e"
            ],
            [
             0.4444444444444444,
             "#bd3786"
            ],
            [
             0.5555555555555556,
             "#d8576b"
            ],
            [
             0.6666666666666666,
             "#ed7953"
            ],
            [
             0.7777777777777778,
             "#fb9f3a"
            ],
            [
             0.8888888888888888,
             "#fdca26"
            ],
            [
             1,
             "#f0f921"
            ]
           ],
           "sequentialminus": [
            [
             0,
             "#0d0887"
            ],
            [
             0.1111111111111111,
             "#46039f"
            ],
            [
             0.2222222222222222,
             "#7201a8"
            ],
            [
             0.3333333333333333,
             "#9c179e"
            ],
            [
             0.4444444444444444,
             "#bd3786"
            ],
            [
             0.5555555555555556,
             "#d8576b"
            ],
            [
             0.6666666666666666,
             "#ed7953"
            ],
            [
             0.7777777777777778,
             "#fb9f3a"
            ],
            [
             0.8888888888888888,
             "#fdca26"
            ],
            [
             1,
             "#f0f921"
            ]
           ]
          },
          "colorway": [
           "#636efa",
           "#EF553B",
           "#00cc96",
           "#ab63fa",
           "#FFA15A",
           "#19d3f3",
           "#FF6692",
           "#B6E880",
           "#FF97FF",
           "#FECB52"
          ],
          "font": {
           "color": "#2a3f5f"
          },
          "geo": {
           "bgcolor": "white",
           "lakecolor": "white",
           "landcolor": "#E5ECF6",
           "showlakes": true,
           "showland": true,
           "subunitcolor": "white"
          },
          "hoverlabel": {
           "align": "left"
          },
          "hovermode": "closest",
          "mapbox": {
           "style": "light"
          },
          "paper_bgcolor": "white",
          "plot_bgcolor": "#E5ECF6",
          "polar": {
           "angularaxis": {
            "gridcolor": "white",
            "linecolor": "white",
            "ticks": ""
           },
           "bgcolor": "#E5ECF6",
           "radialaxis": {
            "gridcolor": "white",
            "linecolor": "white",
            "ticks": ""
           }
          },
          "scene": {
           "xaxis": {
            "backgroundcolor": "#E5ECF6",
            "gridcolor": "white",
            "gridwidth": 2,
            "linecolor": "white",
            "showbackground": true,
            "ticks": "",
            "zerolinecolor": "white"
           },
           "yaxis": {
            "backgroundcolor": "#E5ECF6",
            "gridcolor": "white",
            "gridwidth": 2,
            "linecolor": "white",
            "showbackground": true,
            "ticks": "",
            "zerolinecolor": "white"
           },
           "zaxis": {
            "backgroundcolor": "#E5ECF6",
            "gridcolor": "white",
            "gridwidth": 2,
            "linecolor": "white",
            "showbackground": true,
            "ticks": "",
            "zerolinecolor": "white"
           }
          },
          "shapedefaults": {
           "line": {
            "color": "#2a3f5f"
           }
          },
          "ternary": {
           "aaxis": {
            "gridcolor": "white",
            "linecolor": "white",
            "ticks": ""
           },
           "baxis": {
            "gridcolor": "white",
            "linecolor": "white",
            "ticks": ""
           },
           "bgcolor": "#E5ECF6",
           "caxis": {
            "gridcolor": "white",
            "linecolor": "white",
            "ticks": ""
           }
          },
          "title": {
           "x": 0.05
          },
          "xaxis": {
           "automargin": true,
           "gridcolor": "white",
           "linecolor": "white",
           "ticks": "",
           "title": {
            "standoff": 15
           },
           "zerolinecolor": "white",
           "zerolinewidth": 2
          },
          "yaxis": {
           "automargin": true,
           "gridcolor": "white",
           "linecolor": "white",
           "ticks": "",
           "title": {
            "standoff": 15
           },
           "zerolinecolor": "white",
           "zerolinewidth": 2
          }
         }
        },
        "title": {
         "text": "<b>French Funds - Optimized Comparison</b>"
        },
        "width": 1200,
        "xaxis": {
         "anchor": "y",
         "domain": [
          0,
          1
         ],
         "title": {
          "text": "Risk Level"
         }
        },
        "yaxis": {
         "anchor": "x",
         "domain": [
          0,
          1
         ],
         "title": {
          "text": "Change Rate"
         }
        }
       }
      }
     },
     "metadata": {},
     "output_type": "display_data"
    }
   ],
   "source": [
    "df = funds_df.copy()\n",
    "df['Total_Assets'] = df['Total_Assets'].str.replace('B', '').str.replace('M', '').astype(float)\n",
    "df['Total_Assets'] = df.apply(\n",
    "    lambda x: x['Total_Assets']*1e9 if 'B' in funds_df.loc[x.name,'Total_Assets'] else x['Total_Assets']*1e6, \n",
    "    axis=1\n",
    ")\n",
    "df['Risk'] = df['Chg'].abs()\n",
    "\n",
    "fig = px.scatter(\n",
    "    df,\n",
    "    x=\"Risk\",\n",
    "    y=\"Chg\",\n",
    "    size=\"Total_Assets\",\n",
    "    color=\"Risk\",\n",
    "    hover_name=\"Name\",\n",
    "    size_max=40,\n",
    "    color_continuous_scale=px.colors.sequential.Viridis,\n",
    "    labels={'Chg': 'Change Rate', 'Risk': 'Risk Level'},\n",
    "    title='<b>French Funds - Optimized Comparison</b>'\n",
    ")\n",
    "\n",
    "fig.update_layout(\n",
    "    hoverlabel=dict(bgcolor=\"white\", font_size=12, font_family=\"Arial\"),\n",
    "    width=1200,\n",
    "    height=800\n",
    ")\n",
    "\n",
    "# Smart label placement optimization\n",
    "highlighted_funds = df[(df['Risk'] > 1) | (df['Chg'].abs() > 1)].sort_values('Risk', ascending=False)\n",
    "\n",
    "# Dynamic offset calculation to prevent overlaps\n",
    "for i, row in highlighted_funds.iterrows():\n",
    "    offset_multiplier = (i % 3)  # 3 different positions\n",
    "    fig.add_annotation(\n",
    "        x=row['Risk'],\n",
    "        y=row['Chg'],\n",
    "        text=row['Name'],\n",
    "        showarrow=True,\n",
    "        arrowhead=1,\n",
    "        ax=-30 if offset_multiplier == 0 else 30 if offset_multiplier == 1 else 0,\n",
    "        ay=-40 if offset_multiplier != 2 else 40,\n",
    "        font=dict(color='firebrick', size=10),\n",
    "        textangle=45 if offset_multiplier == 1 else 0,\n",
    "        bgcolor='rgba(255,255,255,0.8)'\n",
    "    )\n",
    "\n",
    "# Manual adjustments for specific funds\n",
    "special_funds = [\"BDL Convictions\", \"Groupama Avenir Euro\"]\n",
    "for name in special_funds:\n",
    "    if name in df['Name'].values:\n",
    "        fund_data = df[df['Name'] == name].iloc[0]\n",
    "        fig.add_annotation(\n",
    "            x=fund_data['Risk'],\n",
    "            y=fund_data['Chg'],\n",
    "            text=name,\n",
    "            showarrow=True,\n",
    "            arrowhead=2,\n",
    "            ax=50,\n",
    "            ay=-60,\n",
    "            font=dict(color='darkblue', size=12, family='Arial Black'),\n",
    "            bordercolor='black',\n",
    "            borderwidth=1\n",
    "        )\n",
    "\n",
    "fig.show()"
   ]
  },
  {
   "cell_type": "markdown",
   "metadata": {},
   "source": [
    "# ML-Driven Fund Performance Prediction\n"
   ]
  },
  {
   "cell_type": "code",
   "execution_count": 8,
   "metadata": {},
   "outputs": [
    {
     "name": "stdout",
     "output_type": "stream",
     "text": [
      "Model Performance:\n",
      "- RMSE: 0.311\n",
      "- R²: 0.733\n"
     ]
    },
    {
     "data": {
      "image/png": "[encoded data removed]",
      "text/plain": [
       "<Figure size 1200x600 with 1 Axes>"
      ]
     },
     "metadata": {},
     "output_type": "display_data"
    },
    {
     "name": "stdout",
     "output_type": "stream",
     "text": [
      "\n",
      "🏆 TOP 10 INVESTMENT FUNDS:\n",
      "Name                                          Predicted_Chg             Risk                    \n",
      "                   H2O Multibonds FCP IEUR C 1.5292                    2.02                     \n",
      "                  H2O Multibonds FCP SREUR C 1.5292                    2.02                     \n",
      "                   H2O Multibonds FCP NEUR C 1.5252                    2.01                     \n",
      "Ofi Financial Investment - Precious Metals R 0.9315                    1.26                     \n",
      "            HSBC Sustainable Global Equity I 0.4271                    0.45                     \n",
      "                      CM-CIC Europe Growth C 0.4218                    0.44                     \n",
      "                                   CPR USA O 0.3811                    0.43                     \n",
      "                                   CPR USA I 0.3811                    0.43                     \n",
      "                                ALM Offensif 0.2478                    0.56                     \n",
      "                            CPR Silver Age E 0.2112                    1.04                     \n"
     ]
    }
   ],
   "source": [
    "\n",
    "\n",
    "# Convert Total_Assets to numerical values\n",
    "funds_df['Total_Assets'] = funds_df['Total_Assets'].str.replace('B', '').str.replace('M', '').astype(float)\n",
    "funds_df['Total_Assets'] = np.where(\n",
    "    funds_df['Total_Assets'].astype(str).str.contains('B'),\n",
    "    funds_df['Total_Assets'] * 1e9,\n",
    "    funds_df['Total_Assets'] * 1e6\n",
    ")\n",
    "\n",
    "# Create Risk column (absolute value of Change)\n",
    "funds_df['Risk'] = funds_df['Chg'].abs()\n",
    "\n",
    "# Features and target variable\n",
    "X = funds_df[[\"Risk\", \"Total_Assets\"]]\n",
    "y = funds_df[\"Chg\"]  # Target: Change rate\n",
    "\n",
    "# 2. Model Training & Evaluation\n",
    "\n",
    "# Split data into training and test sets\n",
    "X_train, X_test, y_train, y_test = train_test_split(X, y, test_size=0.2, random_state=42)\n",
    "\n",
    "# Initialize and train Random Forest model\n",
    "model = RandomForestRegressor(n_estimators=100, random_state=42)\n",
    "model.fit(X_train, y_train)\n",
    "\n",
    "# Predict and evaluate performance\n",
    "y_pred = model.predict(X_test)\n",
    "print(f\"Model Performance:\\n- RMSE: {np.sqrt(mean_squared_error(y_test, y_pred)):.3f}\\n- R²: {r2_score(y_test, y_pred):.3f}\")\n",
    "\n",
    "# 3. Full Dataset Prediction\n",
    "\n",
    "funds_df[\"Predicted_Chg\"] = model.predict(X)\n",
    "\n",
    "\n",
    "best_funds = funds_df.sort_values(\"Predicted_Chg\", ascending=False).head(10)[[\"Name\", \"Predicted_Chg\", \"Risk\"]]\n",
    "\n",
    "\n",
    "plt.figure(figsize=(12, 6))\n",
    "bars = plt.barh(\n",
    "    best_funds[\"Name\"], \n",
    "    best_funds[\"Predicted_Chg\"], \n",
    "    color='#2ecc71', \n",
    "    edgecolor='black', \n",
    "    alpha=0.8\n",
    ")\n",
    "\n",
    "plt.title('Top 10 Investment Funds - Predicted Returns', fontsize=14, pad=20)\n",
    "plt.xlabel('Predicted Return Rate', fontsize=12)\n",
    "plt.ylabel('Fund Names', fontsize=12)\n",
    "plt.grid(axis='x', linestyle='--', alpha=0.7)\n",
    "plt.gca().invert_yaxis()  # Display highest return at top\n",
    "\n",
    "# Add value labels to bars\n",
    "for bar in bars:\n",
    "    width = bar.get_width()\n",
    "    plt.text(\n",
    "        width + 0.02, \n",
    "        bar.get_y() + bar.get_height()/2, \n",
    "        f'{width:.2f}', \n",
    "        ha='left', \n",
    "        va='center',\n",
    "        fontsize=9\n",
    "    )\n",
    "\n",
    "plt.tight_layout()\n",
    "plt.show()\n",
    "\n",
    "print(\"\\n🏆 TOP 10 INVESTMENT FUNDS:\")\n",
    "print(best_funds.to_string(index=False, justify='left', col_space=25))"
   ]
  },
  {
   "cell_type": "markdown",
   "metadata": {},
   "source": [
    "# Portfolio Analysis with Gemini"
   ]
  },
  {
   "cell_type": "code",
   "execution_count": null,
   "metadata": {},
   "outputs": [
    {
     "data": {
      "text/markdown": [
       "Okay, here's a detailed commentary report based on the provided data for 100 French mutual funds.\n",
       "\n",
       "**Commentary Report on French Mutual Fund Data (Data Date: Primarily 12th/13th of March)**\n",
       "\n",
       "**1. Overall Performance Trends:**\n",
       "\n",
       "*   **Mixed Performance:**  The data reveals a mixed bag of performance. While some funds show positive changes (\"Chg\"), a significant number exhibit negative changes. This suggests market uncertainty or a specific sector downturn affecting the funds.\n",
       "*   **Negative Change Dominance:** A quick scan reveals more funds with negative \"Chg\" values than positive ones. This is a point of concern, indicating potentially challenging market conditions during the reported period.\n",
       "*   **Varied Change Magnitudes:** The \"Chg\" values range from relatively small positive gains (e.g., 0.01) to substantial losses (e.g., -2.36 for \"Credit Suisse Lux Global Robotics Equity Fund B US\"). This highlights the diverse investment strategies and risk profiles of the funds included.\n",
       "*   **Performance by Fund Type:**  It is difficult to discern a clear performance trend based solely on fund names (e.g., \"Trésorerie,\" \"Actions Monde\"). A more in-depth categorization would be needed to analyze performance by specific asset class or investment objective.  For instance, Robotics Equity saw a negative change of over 2%, which may imply a market downturn in the Robotics segment or a lack of proper diversification among these funds.\n",
       "\n",
       "**2. 5 Best Performing Funds (Based on \"Chg\" Value):**\n",
       "\n",
       "1.  **H2O Multibonds FCP IEUR C:** 2.02%\n",
       "2.  **H2O Multibonds FCP SREUR C:** 2.02%\n",
       "3.  **H2O Multibonds FCP NEUR C:** 2.01%\n",
       "4.  **Ofi Financial Investment - Precious Metals R:** 1.26%\n",
       "5.  **H2O Multibonds FCP RUSD C:** 1.12%\n",
       "\n",
       "*   **Note:** It's crucial to remember that past performance is not indicative of future results. Furthermore, a single day's performance (or two days' performance) is not a reliable indicator of a fund's long-term potential.\n",
       "\n",
       "**3. Risk-Return Analysis:**\n",
       "\n",
       "*   **Risk Indicator:** The \"Risk\" column provides a risk score (presumably). Higher values indicate greater risk.\n",
       "*   **Relationship Examination:**  A proper risk-return analysis would involve plotting the \"Chg\" (return) against the \"Risk\" value for all funds. This would help identify funds that offer a higher return for a given level of risk (or lower risk for a similar return).\n",
       "*   **Example Observations:**\n",
       "    *   Some funds with relatively low \"Risk\" values (e.g., around 0.01) show modest positive changes. These might be considered lower-risk, lower-return options.\n",
       "    *   Funds with higher \"Risk\" values (e.g., above 0.5) display a range of performance, both positive and negative. This underscores the potential for both high gains and significant losses with higher-risk investments.\n",
       "*   **Caveat:**  The data only covers a short timeframe. A meaningful risk-return analysis requires data over a longer period (e.g., 1 year, 3 years, 5 years) to assess volatility and draw reliable conclusions.\n",
       "*   **Risk/Reward Balance:**  The H20 Multi bonds funds have a high predicted change and risk, meaning that this might be an aggressive investment strategy.\n",
       "\n",
       "**4. Comment on Fund Diversification:**\n",
       "\n",
       "*   **Limited Information:** The provided data offers limited insight into the actual diversification within each fund. We only have the fund names and some basic performance metrics.\n",
       "*   **Incomplete Picture:** To assess diversification, we would need to know the underlying asset allocation of each fund (e.g., percentage in stocks, bonds, real estate, specific sectors).\n",
       "*   **Inferences:**\n",
       "    *   Funds with names like \"Actions Monde\" (World Stocks) likely offer broader geographical diversification across global equity markets.\n",
       "    *   Funds with names like \"Euro Credit\" probably focus on Euro-denominated corporate bonds.\n",
       "    *   Funds with names like \"Treasury\" are going to be government bonds, and likely have lower diversification.\n",
       "*   **Key Consideration:**  Investors should review the fund prospectuses to understand the specific asset allocation and diversification strategies employed by each fund.\n",
       "\n",
       "**5. Featured Analysis Results:**\n",
       "\n",
       "*   **Robotics Sector Underperformance:**  The significant negative change (-2.36%) for \"Credit Suisse Lux Global Robotics Equity Fund B US\" stands out. This suggests potential underperformance in the robotics sector during the reported period. Investors in this fund (or similar robotics-focused funds) should investigate the reasons for this downturn.\n",
       "*   **H2O Multibonds Performance:**  The strong performance of the H2O Multibonds funds (around 2% change) warrants further investigation. Understanding the investment strategy and specific holdings of these funds could be valuable. However, it's crucial to assess the associated risks.\n",
       "*   **High Total Assets = Greater Stability:** The higher Total_Assets funds tend to have better returns, and lower risk.\n",
       "\n",
       "**Recommendations and Next Steps:**\n",
       "\n",
       "*   **Longer-Term Data:** Acquire historical performance data (at least 1-3 years) to conduct a more robust risk-return analysis and identify trends.\n",
       "*   **Fund Prospectus Review:**  Thoroughly review the prospectuses of any fund of interest to understand its investment objectives, strategies, risks, fees, and asset allocation.\n",
       "*   **Sector Analysis:** Analyze performance by fund category (e.g., equity, bond, balanced) to identify sector-specific trends and opportunities.\n",
       "*   **Due Diligence:** Consider consulting with a qualified financial advisor to discuss your investment goals, risk tolerance, and appropriate fund selection.\n",
       "*   **Further Diversification:** If the portfolio of funds is overly concentrated, consider funds that target diversification, and spread out the market risk.\n",
       "*   **Fund expenses:** Identify fund expenses and fees, to determine future profits.\n",
       "\n",
       "**Disclaimer:** This commentary is based solely on the provided data and should not be considered financial advice.  Investment decisions should be made after consulting with a qualified professional and conducting thorough due diligence.\n"
      ],
      "text/plain": [
       "<IPython.core.display.Markdown object>"
      ]
     },
     "execution_count": 9,
     "metadata": {},
     "output_type": "execute_result"
    }
   ],
   "source": [
    "API_KEY =\"YOUR_API_KEY\" \n",
    "genai.configure(api_key=API_KEY)\n",
    "\n",
    "\n",
    "model = genai.GenerativeModel('gemini-2.0-flash')\n",
    "\n",
    "\n",
    "def analyze_funds(funds_df):\n",
    "  \n",
    "    funds_data = funds_df.to_csv(index=False)\n",
    "   \n",
    "    \n",
    "   \n",
    "    prompt = f\"\"\"{funds_data}\n",
    "    Below is data on 100 French mutual funds.\n",
    "    Please analyze this data and create a detailed commentary report.\n",
    " \n",
    "\n",
    "\n",
    "    Requested Analyses:\n",
    "    1. Overall performance trends\n",
    "    2. 5 best performing funds\n",
    "    3. Risk-return analysis\n",
    "    4. Comment on fund diversification\n",
    "    5. Featured anyiz results\n",
    "\n",
    "    \"\"\"\n",
    "    \n",
    "    try:\n",
    "        response = model.generate_content(prompt)\n",
    "        return Markdown(response.text)\n",
    "    except Exception as e:\n",
    "        print(f\"error: {str(e)}\")\n",
    "        return None\n",
    "\n",
    "analyze_funds(funds_df)"
   ]
  }
 ],
 "metadata": {
  "kernelspec": {
   "display_name": "Python 3",
   "language": "python",
   "name": "python3"
  },
  "language_info": {
   "codemirror_mode": {
    "name": "ipython",
    "version": 3
   },
   "file_extension": ".py",
   "mimetype": "text/x-python",
   "name": "python",
   "nbconvert_exporter": "python",
   "pygments_lexer": "ipython3",
   "version": "3.13.1"
  }
 },
 "nbformat": 4,
 "nbformat_minor": 2
}
