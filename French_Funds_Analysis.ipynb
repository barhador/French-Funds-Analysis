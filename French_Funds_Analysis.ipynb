{
 "cells": [
  {
   "cell_type": "markdown",
   "metadata": {},
   "source": [
    "# The fonctions to import\n"
   ]
  },
  {
   "cell_type": "code",
   "execution_count": 55,
   "metadata": {},
   "outputs": [],
   "source": [
    "import numpy as np\n",
    "import requests\n",
    "from bs4 import BeautifulSoup\n",
    "import pandas as pd\n",
    "import matplotlib.pyplot as plt\n",
    "import seaborn as sns\n",
    "import plotly.express as px\n",
    "sns.set_palette('deep')\n",
    "\n"
   ]
  },
  {
   "cell_type": "markdown",
   "metadata": {},
   "source": [
    "# The scraping of the funds of french private company's"
   ]
  },
  {
   "cell_type": "code",
   "execution_count": 56,
   "metadata": {},
   "outputs": [
    {
     "name": "stdout",
     "output_type": "stream",
     "text": [
      "                                         Name   Symbol         Last   Chg  \\\n",
      "0              Amundi Euro Liquidity SRI IC C  0P0000.  249,580.888  0.01   \n",
      "1              Carmignac Patrimoine A EUR Acc  0P0000.      713.930 -0.03   \n",
      "2             Carmignac Patrimoine A EUR Ydis  0P0000.      116.710 -0.03   \n",
      "3              Carmignac Patrimoine E EUR Acc  0P0000.      171.630 -0.03   \n",
      "4          Carmignac Patrimoine A CHF Acc Hdg  0P0000.      115.010 -0.04   \n",
      "..                                        ...      ...          ...   ...   \n",
      "95                               ALM Offensif  0P0000.      312.050  0.56   \n",
      "96              29 Haussmann Euro Rendement C  0P0000.    1,607.860  0.10   \n",
      "97  Candriam Index Arbitrage Classique en EUR  0P0000.    1,518.920 -0.08   \n",
      "98          BNP Paribas Actions Monde Classic  0P0000.       31.120 -0.16   \n",
      "99   Natixis Ultra Short Term Bonds Plus SI C  0P0000.    1,711.680 -0.01   \n",
      "\n",
      "   Total_Assets   Time  \n",
      "0        53.84B  13/03  \n",
      "1         6.07B  13/03  \n",
      "2         6.07B  13/03  \n",
      "3         6.07B  13/03  \n",
      "4         6.07B  13/03  \n",
      "..          ...    ...  \n",
      "95        1.12B  12/03  \n",
      "96         1.3B  12/03  \n",
      "97      256.67M  13/03  \n",
      "98        1.36B  12/03  \n",
      "99        2.27B  13/03  \n",
      "\n",
      "[100 rows x 6 columns]\n"
     ]
    }
   ],
   "source": [
    "\n",
    "\n",
    "def scrape_french_funds():\n",
    "    url = 'https://www.investing.com/funds/france-funds'\n",
    "    headers = {'User-Agent': 'Mozilla/5.0 (Windows NT 10.0; Win64; x64) AppleWebKit/537.36'}\n",
    "\n",
    "    try:\n",
    "        response = requests.get(url, headers=headers)\n",
    "        response.raise_for_status()\n",
    "        soup = BeautifulSoup(response.content, 'html.parser')\n",
    "\n",
    "        Name = []\n",
    "        Symbol = []\n",
    "        Last = []\n",
    "        Chg = []\n",
    "        Total_Assets = []\n",
    "        Time = []\n",
    "\n",
    "        table = soup.find('table')\n",
    "        if table:\n",
    "            rows = table.find_all('tr')[1:]  \n",
    "            for row in rows:\n",
    "                cols = row.find_all('td')\n",
    "                # print(f\"Columns in row: {[col.text.strip() for col in cols]}\") # DEBUG PRINT: Show column contents\n",
    "                if len(cols) >= 8:  \n",
    "                    Name.append(cols[1].text.strip())  \n",
    "                    Symbol.append(cols[2].text.strip()) \n",
    "                    Last.append(cols[3].text.strip())   \n",
    "                    Total_Assets.append(cols[5].text.strip()) \n",
    "                    Time.append(cols[6].text.strip())   \n",
    "                    try:\n",
    "                        Chg_value = float(cols[4].text.strip().replace('%', '')) \n",
    "                        Chg.append(Chg_value)\n",
    "                    except ValueError:\n",
    "                        Chg.append(None)\n",
    "                        print(f\"Warning: Could not convert '{cols[4].text.strip()}' to float for 'Chg'\")\n",
    "\n",
    "        # Create DataFrame\n",
    "        df = pd.DataFrame({\n",
    "            'Name': Name,\n",
    "            'Symbol': Symbol,\n",
    "            'Last': Last,\n",
    "            'Chg': Chg,\n",
    "            'Total_Assets': Total_Assets,\n",
    "            'Time': Time\n",
    "            })\n",
    "\n",
    "        return df\n",
    "\n",
    "    except Exception as e:\n",
    "        print(f'Error scraping data: {e}')\n",
    "        return None\n",
    "\n",
    "df = scrape_french_funds()\n",
    "print(df)"
   ]
  },
  {
   "cell_type": "markdown",
   "metadata": {},
   "source": [
    "# Fetch the data\n"
   ]
  },
  {
   "cell_type": "code",
   "execution_count": 57,
   "metadata": {},
   "outputs": [
    {
     "name": "stdout",
     "output_type": "stream",
     "text": [
      "French Companies Funds Data:\n"
     ]
    },
    {
     "data": {
      "application/vnd.microsoft.datawrangler.viewer.v0+json": {
       "columns": [
        {
         "name": "index",
         "rawType": "int64",
         "type": "integer"
        },
        {
         "name": "Name",
         "rawType": "object",
         "type": "string"
        },
        {
         "name": "Symbol",
         "rawType": "object",
         "type": "string"
        },
        {
         "name": "Last",
         "rawType": "object",
         "type": "string"
        },
        {
         "name": "Chg",
         "rawType": "float64",
         "type": "float"
        },
        {
         "name": "Total_Assets",
         "rawType": "object",
         "type": "string"
        },
        {
         "name": "Time",
         "rawType": "object",
         "type": "string"
        }
       ],
       "conversionMethod": "pd.DataFrame",
       "ref": "26c62e8b-2625-470b-8cfd-7a94860d6eb9",
       "rows": [
        [
         "0",
         "Amundi Euro Liquidity SRI IC C",
         "0P0000.",
         "249,580.888",
         "0.01",
         "53.84B",
         "13/03"
        ],
        [
         "1",
         "Carmignac Patrimoine A EUR Acc",
         "0P0000.",
         "713.930",
         "-0.03",
         "6.07B",
         "13/03"
        ],
        [
         "2",
         "Carmignac Patrimoine A EUR Ydis",
         "0P0000.",
         "116.710",
         "-0.03",
         "6.07B",
         "13/03"
        ],
        [
         "3",
         "Carmignac Patrimoine E EUR Acc",
         "0P0000.",
         "171.630",
         "-0.03",
         "6.07B",
         "13/03"
        ],
        [
         "4",
         "Carmignac Patrimoine A CHF Acc Hdg",
         "0P0000.",
         "115.010",
         "-0.04",
         "6.07B",
         "13/03"
        ],
        [
         "5",
         "Carmignac Patrimoine A USD Acc Hdg",
         "0P0000.",
         "147.230",
         "-0.01",
         "6.07B",
         "13/03"
        ],
        [
         "6",
         "Carmignac Sécurité A EUR Ydis",
         "0P0000.",
         "99.700",
         "0.02",
         "4.95B",
         "13/03"
        ],
        [
         "7",
         "Carmignac Sécurité A EUR Acc",
         "0P0000.",
         "1,888.420",
         "0.02",
         "4.95B",
         "13/03"
        ],
        [
         "8",
         "Groupama Trֳ©sorerie R",
         "0P0001.",
         "534.820",
         "0.01",
         "7.75B",
         "13/03"
        ],
        [
         "9",
         "Groupama Trésorerie IC",
         "0P0000.",
         "43,121.250",
         "0.01",
         "7.75B",
         "13/03"
        ],
        [
         "10",
         "Groupama Trésorerie M",
         "0P0000.",
         "1,111.170",
         "0.01",
         "7.75B",
         "13/03"
        ],
        [
         "11",
         "Afer-Sfer",
         "0P0000.",
         "80.470",
         "0.4",
         "4.79B",
         "12/03"
        ],
        [
         "12",
         "Groupama Entreprises IC",
         "0P0000.",
         "2,436.050",
         "0.01",
         "6.25B",
         "13/03"
        ],
        [
         "13",
         "Groupama Entreprises R",
         "0P0001.",
         "533.780",
         "0.01",
         "6.25B",
         "13/03"
        ],
        [
         "14",
         "Groupama Entreprises N",
         "0P0000.",
         "597.820",
         "0.01",
         "6.25B",
         "13/03"
        ],
        [
         "15",
         "Lazard Convertible Global R",
         "0P0000.",
         "488.680",
         "0.12",
         "2.81B",
         "13/03"
        ],
        [
         "16",
         "Lazard Convertible Global PC H-EUR",
         "0P0001.",
         "1,904.000",
         "-0.42",
         "2.81B",
         "13/03"
        ],
        [
         "17",
         "Lazard Convertible Global A",
         "0P0000.",
         "1,798.110",
         "0.12",
         "2.81B",
         "13/03"
        ],
        [
         "18",
         "Amundi 12 M I",
         "0P0000.",
         "116,543",
         "-0.02",
         "4.27B",
         "13/03"
        ],
        [
         "19",
         "Amundi 12 M E",
         "0P0000.",
         "11,295.200",
         "-0.02",
         "4.27B",
         "13/03"
        ],
        [
         "20",
         "Ofi RS Liquidités C/D",
         "0P0000.",
         "4,679.250",
         "0.01",
         "5.48B",
         "13/03"
        ],
        [
         "21",
         "BNP Paribas Aqua I",
         "0P0000.",
         "76,861.720",
         "-0.31",
         "3.28B",
         "13/03"
        ],
        [
         "22",
         "BNP Paribas Aqua Classic",
         "0P0000.",
         "636.710",
         "-0.31",
         "3.28B",
         "13/03"
        ],
        [
         "23",
         "Comgest Renaissance Europe Z",
         "0P0001.",
         "267.790",
         "-0.69",
         "3.42B",
         "13/03"
        ],
        [
         "24",
         "Renaissance Europe I",
         "0P0000.",
         "278.620",
         "-0.68",
         "3.42B",
         "13/03"
        ],
        [
         "25",
         "Renaissance Europe C",
         "0P0000.",
         "259.160",
         "-0.69",
         "3.42B",
         "13/03"
        ],
        [
         "26",
         "Carmignac Investissement E EUR Acc",
         "0P0000.",
         "280.190",
         "-0.42",
         "3.57B",
         "13/03"
        ],
        [
         "27",
         "Carmignac Investissement A EUR Acc",
         "0P0000.",
         "2,023.540",
         "-0.41",
         "3.57B",
         "13/03"
        ],
        [
         "28",
         "La Française Trésorerie ISR R",
         "0P0000.",
         "92,121.910",
         "0.01",
         "3.2B",
         "13/03"
        ],
        [
         "29",
         "R Valor D EUR",
         "0P0001.",
         "2,791.660",
         "-0.14",
         "6.25B",
         "13/03"
        ],
        [
         "30",
         "R Valor F EUR",
         "0P0001.",
         "3,051.150",
         "-0.14",
         "6.25B",
         "13/03"
        ],
        [
         "31",
         "R Valor C EUR",
         "0P0001.",
         "3,474.870",
         "-0.14",
         "6.25B",
         "13/03"
        ],
        [
         "32",
         "R Valor P EUR",
         "0P0001.",
         "2,466.990",
         "-0.13",
         "6.25B",
         "13/03"
        ],
        [
         "33",
         "Moneta Multi Caps D",
         "0P0000.",
         "309.140",
         "-0.47",
         "1.59B",
         "13/03"
        ],
        [
         "34",
         "Moneta Multi Caps C",
         "0P0000.",
         "386.570",
         "-0.47",
         "1.59B",
         "13/03"
        ],
        [
         "35",
         "Eurose C",
         "0P0000.",
         "445.600",
         "-0.1",
         "2.68B",
         "13/03"
        ],
        [
         "36",
         "Comgest Monde I",
         "0P0000.",
         "35.670",
         "-0.7",
         "2.52B",
         "13/03"
        ],
        [
         "37",
         "Comgest Monde C",
         "0P0000.",
         "31.200",
         "-0.7",
         "2.52B",
         "13/03"
        ],
        [
         "38",
         "Comgest Monde Z",
         "0P0001.",
         "33.380",
         "-0.71",
         "2.52B",
         "13/03"
        ],
        [
         "39",
         "SG Flexible PC",
         "0P0000.",
         "201.640",
         "0.06",
         "2.38B",
         "12/03"
        ],
        [
         "40",
         "CM-CIC Europe Growth C",
         "0P0000.",
         "8,008.950",
         "0.44",
         "2.03B",
         "12/03"
        ],
        [
         "41",
         "Afer Actions Euro A",
         "0P0000.",
         "220.420",
         "-0.58",
         "2.21B",
         "13/03"
        ],
        [
         "42",
         "Afer Actions Euro I",
         "0P0000.",
         "210,793",
         "-0.58",
         "2.21B",
         "13/03"
        ],
        [
         "43",
         "Credit Suisse Lux Global Robotics Equity Fund B US",
         "0P0001.",
         "21.540",
         "-2.36",
         "1.14B",
         "13/03"
        ],
        [
         "44",
         "Swiss Life Funds F Bond Cash Equivalent I",
         "0P0000.",
         "11,552.060",
         "0.01",
         "2.13B",
         "13/03"
        ],
        [
         "45",
         "H2O Multibonds FCP IEUR C",
         "0P0001.",
         "303,322",
         "2.02",
         "1.28B",
         "13/03"
        ],
        [
         "46",
         "H2O Multibonds FCP SREUR C",
         "0P0001.",
         "130.030",
         "2.02",
         "1.28B",
         "13/03"
        ],
        [
         "47",
         "H2O Multibonds RC",
         "0P0001.",
         "521.160",
         "0.12",
         "1.7B",
         "05/07"
        ],
        [
         "48",
         "H2O Multibonds FCP NEUR C",
         "0P0001.",
         "204.170",
         "2.01",
         "1.28B",
         "13/03"
        ],
        [
         "49",
         "H2O Multibonds FCP RUSD C",
         "0P0001.",
         "277.560",
         "1.12",
         "1.28B",
         "13/03"
        ]
       ],
       "shape": {
        "columns": 6,
        "rows": 100
       }
      },
      "text/html": [
       "<div>\n",
       "<style scoped>\n",
       "    .dataframe tbody tr th:only-of-type {\n",
       "        vertical-align: middle;\n",
       "    }\n",
       "\n",
       "    .dataframe tbody tr th {\n",
       "        vertical-align: top;\n",
       "    }\n",
       "\n",
       "    .dataframe thead th {\n",
       "        text-align: right;\n",
       "    }\n",
       "</style>\n",
       "<table border=\"1\" class=\"dataframe\">\n",
       "  <thead>\n",
       "    <tr style=\"text-align: right;\">\n",
       "      <th></th>\n",
       "      <th>Name</th>\n",
       "      <th>Symbol</th>\n",
       "      <th>Last</th>\n",
       "      <th>Chg</th>\n",
       "      <th>Total_Assets</th>\n",
       "      <th>Time</th>\n",
       "    </tr>\n",
       "  </thead>\n",
       "  <tbody>\n",
       "    <tr>\n",
       "      <th>0</th>\n",
       "      <td>Amundi Euro Liquidity SRI IC C</td>\n",
       "      <td>0P0000.</td>\n",
       "      <td>249,580.888</td>\n",
       "      <td>0.01</td>\n",
       "      <td>53.84B</td>\n",
       "      <td>13/03</td>\n",
       "    </tr>\n",
       "    <tr>\n",
       "      <th>1</th>\n",
       "      <td>Carmignac Patrimoine A EUR Acc</td>\n",
       "      <td>0P0000.</td>\n",
       "      <td>713.930</td>\n",
       "      <td>-0.03</td>\n",
       "      <td>6.07B</td>\n",
       "      <td>13/03</td>\n",
       "    </tr>\n",
       "    <tr>\n",
       "      <th>2</th>\n",
       "      <td>Carmignac Patrimoine A EUR Ydis</td>\n",
       "      <td>0P0000.</td>\n",
       "      <td>116.710</td>\n",
       "      <td>-0.03</td>\n",
       "      <td>6.07B</td>\n",
       "      <td>13/03</td>\n",
       "    </tr>\n",
       "    <tr>\n",
       "      <th>3</th>\n",
       "      <td>Carmignac Patrimoine E EUR Acc</td>\n",
       "      <td>0P0000.</td>\n",
       "      <td>171.630</td>\n",
       "      <td>-0.03</td>\n",
       "      <td>6.07B</td>\n",
       "      <td>13/03</td>\n",
       "    </tr>\n",
       "    <tr>\n",
       "      <th>4</th>\n",
       "      <td>Carmignac Patrimoine A CHF Acc Hdg</td>\n",
       "      <td>0P0000.</td>\n",
       "      <td>115.010</td>\n",
       "      <td>-0.04</td>\n",
       "      <td>6.07B</td>\n",
       "      <td>13/03</td>\n",
       "    </tr>\n",
       "    <tr>\n",
       "      <th>...</th>\n",
       "      <td>...</td>\n",
       "      <td>...</td>\n",
       "      <td>...</td>\n",
       "      <td>...</td>\n",
       "      <td>...</td>\n",
       "      <td>...</td>\n",
       "    </tr>\n",
       "    <tr>\n",
       "      <th>95</th>\n",
       "      <td>ALM Offensif</td>\n",
       "      <td>0P0000.</td>\n",
       "      <td>312.050</td>\n",
       "      <td>0.56</td>\n",
       "      <td>1.12B</td>\n",
       "      <td>12/03</td>\n",
       "    </tr>\n",
       "    <tr>\n",
       "      <th>96</th>\n",
       "      <td>29 Haussmann Euro Rendement C</td>\n",
       "      <td>0P0000.</td>\n",
       "      <td>1,607.860</td>\n",
       "      <td>0.10</td>\n",
       "      <td>1.3B</td>\n",
       "      <td>12/03</td>\n",
       "    </tr>\n",
       "    <tr>\n",
       "      <th>97</th>\n",
       "      <td>Candriam Index Arbitrage Classique en EUR</td>\n",
       "      <td>0P0000.</td>\n",
       "      <td>1,518.920</td>\n",
       "      <td>-0.08</td>\n",
       "      <td>256.67M</td>\n",
       "      <td>13/03</td>\n",
       "    </tr>\n",
       "    <tr>\n",
       "      <th>98</th>\n",
       "      <td>BNP Paribas Actions Monde Classic</td>\n",
       "      <td>0P0000.</td>\n",
       "      <td>31.120</td>\n",
       "      <td>-0.16</td>\n",
       "      <td>1.36B</td>\n",
       "      <td>12/03</td>\n",
       "    </tr>\n",
       "    <tr>\n",
       "      <th>99</th>\n",
       "      <td>Natixis Ultra Short Term Bonds Plus SI C</td>\n",
       "      <td>0P0000.</td>\n",
       "      <td>1,711.680</td>\n",
       "      <td>-0.01</td>\n",
       "      <td>2.27B</td>\n",
       "      <td>13/03</td>\n",
       "    </tr>\n",
       "  </tbody>\n",
       "</table>\n",
       "<p>100 rows × 6 columns</p>\n",
       "</div>"
      ],
      "text/plain": [
       "                                         Name   Symbol         Last   Chg  \\\n",
       "0              Amundi Euro Liquidity SRI IC C  0P0000.  249,580.888  0.01   \n",
       "1              Carmignac Patrimoine A EUR Acc  0P0000.      713.930 -0.03   \n",
       "2             Carmignac Patrimoine A EUR Ydis  0P0000.      116.710 -0.03   \n",
       "3              Carmignac Patrimoine E EUR Acc  0P0000.      171.630 -0.03   \n",
       "4          Carmignac Patrimoine A CHF Acc Hdg  0P0000.      115.010 -0.04   \n",
       "..                                        ...      ...          ...   ...   \n",
       "95                               ALM Offensif  0P0000.      312.050  0.56   \n",
       "96              29 Haussmann Euro Rendement C  0P0000.    1,607.860  0.10   \n",
       "97  Candriam Index Arbitrage Classique en EUR  0P0000.    1,518.920 -0.08   \n",
       "98          BNP Paribas Actions Monde Classic  0P0000.       31.120 -0.16   \n",
       "99   Natixis Ultra Short Term Bonds Plus SI C  0P0000.    1,711.680 -0.01   \n",
       "\n",
       "   Total_Assets   Time  \n",
       "0        53.84B  13/03  \n",
       "1         6.07B  13/03  \n",
       "2         6.07B  13/03  \n",
       "3         6.07B  13/03  \n",
       "4         6.07B  13/03  \n",
       "..          ...    ...  \n",
       "95        1.12B  12/03  \n",
       "96         1.3B  12/03  \n",
       "97      256.67M  13/03  \n",
       "98        1.36B  12/03  \n",
       "99        2.27B  13/03  \n",
       "\n",
       "[100 rows x 6 columns]"
      ]
     },
     "metadata": {},
     "output_type": "display_data"
    }
   ],
   "source": [
    "funds_df = scrape_french_funds()\n",
    "\n",
    "if funds_df is not None:\n",
    "    print('French Companies Funds Data:')\n",
    "    display(funds_df)"
   ]
  },
  {
   "cell_type": "markdown",
   "metadata": {},
   "source": [
    "# Risk Analysis"
   ]
  },
  {
   "cell_type": "code",
   "execution_count": 58,
   "metadata": {},
   "outputs": [
    {
     "name": "stdout",
     "output_type": "stream",
     "text": [
      "Funds from Lowest to Highest Risk:\n"
     ]
    },
    {
     "data": {
      "application/vnd.microsoft.datawrangler.viewer.v0+json": {
       "columns": [
        {
         "name": "index",
         "rawType": "int64",
         "type": "integer"
        },
        {
         "name": "Name",
         "rawType": "object",
         "type": "string"
        },
        {
         "name": "Risk",
         "rawType": "float64",
         "type": "float"
        },
        {
         "name": "Total_Assets",
         "rawType": "object",
         "type": "string"
        },
        {
         "name": "Chg",
         "rawType": "float64",
         "type": "float"
        }
       ],
       "conversionMethod": "pd.DataFrame",
       "ref": "0ebd85b0-bd5c-45bf-8d93-cf828eb10a1c",
       "rows": [
        [
         "0",
         "Amundi Euro Liquidity SRI IC C",
         "0.01",
         "53.84B",
         "0.01"
        ],
        [
         "66",
         "AXA Court Terme AC",
         "0.01",
         "4.53B",
         "0.01"
        ],
        [
         "61",
         "CPR Oblig 12 Mois P",
         "0.01",
         "1.19B",
         "-0.01"
        ],
        [
         "44",
         "Swiss Life Funds F Bond Cash Equivalent I",
         "0.01",
         "2.13B",
         "0.01"
        ],
        [
         "28",
         "La Française Trésorerie ISR R",
         "0.01",
         "3.2B",
         "0.01"
        ],
        [
         "20",
         "Ofi RS Liquidités C/D",
         "0.01",
         "5.48B",
         "0.01"
        ],
        [
         "14",
         "Groupama Entreprises N",
         "0.01",
         "6.25B",
         "0.01"
        ],
        [
         "13",
         "Groupama Entreprises R",
         "0.01",
         "6.25B",
         "0.01"
        ],
        [
         "12",
         "Groupama Entreprises IC",
         "0.01",
         "6.25B",
         "0.01"
        ],
        [
         "10",
         "Groupama Trésorerie M",
         "0.01",
         "7.75B",
         "0.01"
        ],
        [
         "99",
         "Natixis Ultra Short Term Bonds Plus SI C",
         "0.01",
         "2.27B",
         "-0.01"
        ],
        [
         "8",
         "Groupama Trֳ©sorerie R",
         "0.01",
         "7.75B",
         "0.01"
        ],
        [
         "9",
         "Groupama Trésorerie IC",
         "0.01",
         "7.75B",
         "0.01"
        ],
        [
         "5",
         "Carmignac Patrimoine A USD Acc Hdg",
         "0.01",
         "6.07B",
         "-0.01"
        ],
        [
         "7",
         "Carmignac Sécurité A EUR Acc",
         "0.02",
         "4.95B",
         "0.02"
        ],
        [
         "6",
         "Carmignac Sécurité A EUR Ydis",
         "0.02",
         "4.95B",
         "0.02"
        ],
        [
         "69",
         "Union Obli Moyen Terme C",
         "0.02",
         "1.27B",
         "-0.02"
        ],
        [
         "18",
         "Amundi 12 M I",
         "0.02",
         "4.27B",
         "-0.02"
        ],
        [
         "19",
         "Amundi 12 M E",
         "0.02",
         "4.27B",
         "-0.02"
        ],
        [
         "62",
         "CPR Oblig 12 Mois I",
         "0.02",
         "1.19B",
         "-0.02"
        ],
        [
         "87",
         "Allianz Euro Oblig Court Terme ISR I",
         "0.02",
         "120.91M",
         "0.02"
        ],
        [
         "2",
         "Carmignac Patrimoine A EUR Ydis",
         "0.03",
         "6.07B",
         "-0.03"
        ],
        [
         "1",
         "Carmignac Patrimoine A EUR Acc",
         "0.03",
         "6.07B",
         "-0.03"
        ],
        [
         "3",
         "Carmignac Patrimoine E EUR Acc",
         "0.03",
         "6.07B",
         "-0.03"
        ],
        [
         "86",
         "Allianz Euro Oblig Court Terme ISR MC",
         "0.03",
         "15.42M",
         "0.03"
        ],
        [
         "4",
         "Carmignac Patrimoine A CHF Acc Hdg",
         "0.04",
         "6.07B",
         "-0.04"
        ],
        [
         "77",
         "R-co Euro Crédit C EUR",
         "0.05",
         "3.23B",
         "-0.05"
        ],
        [
         "55",
         "Impact ES Oblig Euro I",
         "0.05",
         "1.55B",
         "0.05"
        ],
        [
         "39",
         "SG Flexible PC",
         "0.06",
         "2.38B",
         "0.06"
        ],
        [
         "83",
         "Aviva Investors Valorisation",
         "0.07",
         "1.47B",
         "0.07"
        ],
        [
         "97",
         "Candriam Index Arbitrage Classique en EUR",
         "0.08",
         "256.67M",
         "-0.08"
        ],
        [
         "64",
         "CPR Croissance Réactive P",
         "0.1",
         "1.02B",
         "0.1"
        ],
        [
         "63",
         "CPR Croissance Réactive I",
         "0.1",
         "1.02B",
         "0.1"
        ],
        [
         "96",
         "29 Haussmann Euro Rendement C",
         "0.1",
         "1.3B",
         "0.1"
        ],
        [
         "35",
         "Eurose C",
         "0.1",
         "2.68B",
         "-0.1"
        ],
        [
         "15",
         "Lazard Convertible Global R",
         "0.12",
         "2.81B",
         "0.12"
        ],
        [
         "17",
         "Lazard Convertible Global A",
         "0.12",
         "2.81B",
         "0.12"
        ],
        [
         "47",
         "H2O Multibonds RC",
         "0.12",
         "1.7B",
         "0.12"
        ],
        [
         "32",
         "R Valor P EUR",
         "0.13",
         "6.25B",
         "-0.13"
        ],
        [
         "31",
         "R Valor C EUR",
         "0.14",
         "6.25B",
         "-0.14"
        ],
        [
         "30",
         "R Valor F EUR",
         "0.14",
         "6.25B",
         "-0.14"
        ],
        [
         "29",
         "R Valor D EUR",
         "0.14",
         "6.25B",
         "-0.14"
        ],
        [
         "98",
         "BNP Paribas Actions Monde Classic",
         "0.16",
         "1.36B",
         "-0.16"
        ],
        [
         "51",
         "EdR SICAV - Financial Bonds B EUR",
         "0.19",
         "2.28B",
         "-0.19"
        ],
        [
         "65",
         "ALM Classic",
         "0.21",
         "1.84B",
         "0.21"
        ],
        [
         "92",
         "Aviva Conviction Patrimoine",
         "0.22",
         "1.39B",
         "0.22"
        ],
        [
         "56",
         "Amundi Label Equilibre Solidaire ESR F",
         "0.23",
         "1.99B",
         "-0.23"
        ],
        [
         "84",
         "Aviva Investors Conviction",
         "0.23",
         "1.56B",
         "0.23"
        ],
        [
         "94",
         "SG Oblig Etat Euro R",
         "0.25",
         "957.45M",
         "-0.25"
        ],
        [
         "82",
         "Vega Euro Rendement RC",
         "0.28",
         "1.48B",
         "-0.28"
        ]
       ],
       "shape": {
        "columns": 4,
        "rows": 100
       }
      },
      "text/html": [
       "<div>\n",
       "<style scoped>\n",
       "    .dataframe tbody tr th:only-of-type {\n",
       "        vertical-align: middle;\n",
       "    }\n",
       "\n",
       "    .dataframe tbody tr th {\n",
       "        vertical-align: top;\n",
       "    }\n",
       "\n",
       "    .dataframe thead th {\n",
       "        text-align: right;\n",
       "    }\n",
       "</style>\n",
       "<table border=\"1\" class=\"dataframe\">\n",
       "  <thead>\n",
       "    <tr style=\"text-align: right;\">\n",
       "      <th></th>\n",
       "      <th>Name</th>\n",
       "      <th>Risk</th>\n",
       "      <th>Total_Assets</th>\n",
       "      <th>Chg</th>\n",
       "    </tr>\n",
       "  </thead>\n",
       "  <tbody>\n",
       "    <tr>\n",
       "      <th>0</th>\n",
       "      <td>Amundi Euro Liquidity SRI IC C</td>\n",
       "      <td>0.01</td>\n",
       "      <td>53.84B</td>\n",
       "      <td>0.01</td>\n",
       "    </tr>\n",
       "    <tr>\n",
       "      <th>66</th>\n",
       "      <td>AXA Court Terme AC</td>\n",
       "      <td>0.01</td>\n",
       "      <td>4.53B</td>\n",
       "      <td>0.01</td>\n",
       "    </tr>\n",
       "    <tr>\n",
       "      <th>61</th>\n",
       "      <td>CPR Oblig 12 Mois P</td>\n",
       "      <td>0.01</td>\n",
       "      <td>1.19B</td>\n",
       "      <td>-0.01</td>\n",
       "    </tr>\n",
       "    <tr>\n",
       "      <th>44</th>\n",
       "      <td>Swiss Life Funds F Bond Cash Equivalent I</td>\n",
       "      <td>0.01</td>\n",
       "      <td>2.13B</td>\n",
       "      <td>0.01</td>\n",
       "    </tr>\n",
       "    <tr>\n",
       "      <th>28</th>\n",
       "      <td>La Française Trésorerie ISR R</td>\n",
       "      <td>0.01</td>\n",
       "      <td>3.2B</td>\n",
       "      <td>0.01</td>\n",
       "    </tr>\n",
       "    <tr>\n",
       "      <th>...</th>\n",
       "      <td>...</td>\n",
       "      <td>...</td>\n",
       "      <td>...</td>\n",
       "      <td>...</td>\n",
       "    </tr>\n",
       "    <tr>\n",
       "      <th>85</th>\n",
       "      <td>Ofi Financial Investment - Precious Metals R</td>\n",
       "      <td>1.26</td>\n",
       "      <td>525.61M</td>\n",
       "      <td>1.26</td>\n",
       "    </tr>\n",
       "    <tr>\n",
       "      <th>48</th>\n",
       "      <td>H2O Multibonds FCP NEUR C</td>\n",
       "      <td>2.01</td>\n",
       "      <td>1.28B</td>\n",
       "      <td>2.01</td>\n",
       "    </tr>\n",
       "    <tr>\n",
       "      <th>45</th>\n",
       "      <td>H2O Multibonds FCP IEUR C</td>\n",
       "      <td>2.02</td>\n",
       "      <td>1.28B</td>\n",
       "      <td>2.02</td>\n",
       "    </tr>\n",
       "    <tr>\n",
       "      <th>46</th>\n",
       "      <td>H2O Multibonds FCP SREUR C</td>\n",
       "      <td>2.02</td>\n",
       "      <td>1.28B</td>\n",
       "      <td>2.02</td>\n",
       "    </tr>\n",
       "    <tr>\n",
       "      <th>43</th>\n",
       "      <td>Credit Suisse Lux Global Robotics Equity Fund ...</td>\n",
       "      <td>2.36</td>\n",
       "      <td>1.14B</td>\n",
       "      <td>-2.36</td>\n",
       "    </tr>\n",
       "  </tbody>\n",
       "</table>\n",
       "<p>100 rows × 4 columns</p>\n",
       "</div>"
      ],
      "text/plain": [
       "                                                 Name  Risk Total_Assets   Chg\n",
       "0                      Amundi Euro Liquidity SRI IC C  0.01       53.84B  0.01\n",
       "66                                 AXA Court Terme AC  0.01        4.53B  0.01\n",
       "61                                CPR Oblig 12 Mois P  0.01        1.19B -0.01\n",
       "44          Swiss Life Funds F Bond Cash Equivalent I  0.01        2.13B  0.01\n",
       "28                      La Française Trésorerie ISR R  0.01         3.2B  0.01\n",
       "..                                                ...   ...          ...   ...\n",
       "85       Ofi Financial Investment - Precious Metals R  1.26      525.61M  1.26\n",
       "48                          H2O Multibonds FCP NEUR C  2.01        1.28B  2.01\n",
       "45                          H2O Multibonds FCP IEUR C  2.02        1.28B  2.02\n",
       "46                         H2O Multibonds FCP SREUR C  2.02        1.28B  2.02\n",
       "43  Credit Suisse Lux Global Robotics Equity Fund ...  2.36        1.14B -2.36\n",
       "\n",
       "[100 rows x 4 columns]"
      ]
     },
     "metadata": {},
     "output_type": "display_data"
    }
   ],
   "source": [
    "funds_df['Risk'] = funds_df['Chg'].abs()\n",
    "sorted_df = funds_df.sort_values(by='Risk', ascending=True)\n",
    "\n",
    "print(\"Funds from Lowest to Highest Risk:\")\n",
    "display(sorted_df[['Name', 'Risk', 'Total_Assets', 'Chg']])"
   ]
  },
  {
   "cell_type": "code",
   "execution_count": 59,
   "metadata": {},
   "outputs": [
    {
     "name": "stdout",
     "output_type": "stream",
     "text": [
      "Top 5 Best Performing Funds (by Rate of Change):\n",
      "                                        Name  Chg\n",
      "                   H2O Multibonds FCP IEUR C 2.02\n",
      "                  H2O Multibonds FCP SREUR C 2.02\n",
      "                   H2O Multibonds FCP NEUR C 2.01\n",
      "Ofi Financial Investment - Precious Metals R 1.26\n",
      "                   H2O Multibonds FCP RUSD C 1.12\n"
     ]
    }
   ],
   "source": [
    "# Top 5 funds with the highest returns\n",
    "top5_retuns = funds_df.sort_values(by='Chg', ascending=False).head(5)[['Name', 'Chg']]\n",
    "\n",
    "print(\"Top 5 Best Performing Funds (by Rate of Change):\")\n",
    "print(top5_retuns.to_string(index=False))"
   ]
  },
  {
   "cell_type": "code",
   "execution_count": 60,
   "metadata": {},
   "outputs": [
    {
     "name": "stdout",
     "output_type": "stream",
     "text": [
      "\n",
      " Top 5 Least Risky Funds:\n",
      "                                     Name  Risk\n",
      "           Amundi Euro Liquidity SRI IC C  0.01\n",
      "                       AXA Court Terme AC  0.01\n",
      "                      CPR Oblig 12 Mois P  0.01\n",
      "Swiss Life Funds F Bond Cash Equivalent I  0.01\n",
      "            La Française Trésorerie ISR R  0.01\n"
     ]
    }
   ],
   "source": [
    "# Top 5 funds with the lowest risk\n",
    "top5_lowest_risk = funds_df.sort_values(by='Risk', ascending=True).head(5)[['Name', 'Risk']]\n",
    "\n",
    "print(\"\\n Top 5 Least Risky Funds:\")\n",
    "print(top5_lowest_risk.to_string(index=False))"
   ]
  },
  {
   "cell_type": "markdown",
   "metadata": {},
   "source": [
    "# Optimized Comparison of the French Funds"
   ]
  },
  {
   "cell_type": "code",
   "execution_count": null,
   "metadata": {},
   "outputs": [
    {
     "data": {
      "application/vnd.plotly.v1+json": {
       "config": {
        "plotlyServerURL": "https://plot.ly"
       },
       "data": [
        {
         "hovertemplate": "<b>%{hovertext}</b><br><br>Risk Level=%{marker.color}<br>Change Rate=%{y}<br>Total_Assets=%{marker.size}<extra></extra>",
         "hovertext": [
          "Amundi Euro Liquidity SRI IC C",
          "Carmignac Patrimoine A EUR Acc",
          "Carmignac Patrimoine A EUR Ydis",
          "Carmignac Patrimoine E EUR Acc",
          "Carmignac Patrimoine A CHF Acc Hdg",
          "Carmignac Patrimoine A USD Acc Hdg",
          "Carmignac Sécurité A EUR Ydis",
          "Carmignac Sécurité A EUR Acc",
          "Groupama Trֳ©sorerie R",
          "Groupama Trésorerie IC",
          "Groupama Trésorerie M",
          "Afer-Sfer",
          "Groupama Entreprises IC",
          "Groupama Entreprises R",
          "Groupama Entreprises N",
          "Lazard Convertible Global R",
          "Lazard Convertible Global PC H-EUR",
          "Lazard Convertible Global A",
          "Amundi 12 M I",
          "Amundi 12 M E",
          "Ofi RS Liquidités C/D",
          "BNP Paribas Aqua I",
          "BNP Paribas Aqua Classic",
          "Comgest Renaissance Europe Z",
          "Renaissance Europe I",
          "Renaissance Europe C",
          "Carmignac Investissement E EUR Acc",
          "Carmignac Investissement A EUR Acc",
          "La Française Trésorerie ISR R",
          "R Valor D EUR",
          "R Valor F EUR",
          "R Valor C EUR",
          "R Valor P EUR",
          "Moneta Multi Caps D",
          "Moneta Multi Caps C",
          "Eurose C",
          "Comgest Monde I",
          "Comgest Monde C",
          "Comgest Monde Z",
          "SG Flexible PC",
          "CM-CIC Europe Growth C",
          "Afer Actions Euro A",
          "Afer Actions Euro I",
          "Credit Suisse Lux Global Robotics Equity Fund B US",
          "Swiss Life Funds F Bond Cash Equivalent I",
          "H2O Multibonds FCP IEUR C",
          "H2O Multibonds FCP SREUR C",
          "H2O Multibonds RC",
          "H2O Multibonds FCP NEUR C",
          "H2O Multibonds FCP RUSD C",
          "CPR Silver Age E",
          "EdR SICAV - Financial Bonds B EUR",
          "Echiquier Agenor Mid Cap Europe A",
          "Echiquier Agenor I",
          "Echiquier Agenor G",
          "Impact ES Oblig Euro I",
          "Amundi Label Equilibre Solidaire ESR F",
          "Oddo Avenir Europe CN-EUR",
          "Oddo Avenir Europe CR-EUR",
          "Oddo Avenir Europe DR-EUR",
          "Oddo Avenir Europe CI-EUR",
          "CPR Oblig 12 Mois P",
          "CPR Oblig 12 Mois I",
          "CPR Croissance Réactive I",
          "CPR Croissance Réactive P",
          "ALM Classic",
          "AXA Court Terme AC",
          "BNP Paribas Développement Humain I",
          "BNP Paribas Développement Humain Classic",
          "Union Obli Moyen Terme C",
          "Amundi Resa Actions Internationales C",
          "Vivaccio Actions GMO Actions",
          "Vivaccio Actions Vivaccio Actions",
          "Flexigestion Patrimoine",
          "HSBC Sustainable Global Equity I",
          "HSBC Sustainable Global Equity G",
          "Groupama Equilibre I",
          "R-co Euro Crédit C EUR",
          "CPR USA O",
          "CPR USA I",
          "Afer Actions Monde",
          "Groupama Expansion",
          "Vega Euro Rendement RC",
          "Aviva Investors Valorisation",
          "Aviva Investors Conviction",
          "Ofi Financial Investment - Precious Metals R",
          "Allianz Euro Oblig Court Terme ISR MC",
          "Allianz Euro Oblig Court Terme ISR I",
          "ALM Dynamic",
          "Groupama Avenir Euro I",
          "Groupama Avenir Euro MC",
          "Groupama Avenir Euro N",
          "Aviva Conviction Patrimoine",
          "BDL Convictions",
          "SG Oblig Etat Euro R",
          "ALM Offensif",
          "29 Haussmann Euro Rendement C",
          "Candriam Index Arbitrage Classique en EUR",
          "BNP Paribas Actions Monde Classic",
          "Natixis Ultra Short Term Bonds Plus SI C"
         ],
         "legendgroup": "",
         "marker": {
          "color": [
           0.01,
           0.03,
           0.03,
           0.03,
           0.04,
           0.01,
           0.02,
           0.02,
           0.01,
           0.01,
           0.01,
           0.4,
           0.01,
           0.01,
           0.01,
           0.12,
           0.42,
           0.12,
           0.02,
           0.02,
           0.01,
           0.31,
           0.31,
           0.69,
           0.68,
           0.69,
           0.42,
           0.41,
           0.01,
           0.14,
           0.14,
           0.14,
           0.13,
           0.47,
           0.47,
           0.1,
           0.7,
           0.7,
           0.71,
           0.06,
           0.44,
           0.58,
           0.58,
           2.36,
           0.01,
           2.02,
           2.02,
           0.12,
           2.01,
           1.12,
           1.04,
           0.19,
           0.86,
           0.86,
           0.86,
           0.05,
           0.23,
           0.94,
           0.94,
           0.94,
           0.94,
           0.01,
           0.02,
           0.1,
           0.1,
           0.21,
           0.01,
           0.31,
           0.31,
           0.02,
           0.55,
           0.39,
           0.39,
           0.41,
           0.45,
           0.45,
           0.31,
           0.05,
           0.43,
           0.43,
           0.87,
           0.31,
           0.28,
           0.07,
           0.23,
           1.26,
           0.03,
           0.02,
           0.37,
           1.04,
           1.04,
           1.04,
           0.22,
           1.1,
           0.25,
           0.56,
           0.1,
           0.08,
           0.16,
           0.01
          ],
          "coloraxis": "coloraxis",
          "size": [
           53840000000,
           6070000000,
           6070000000,
           6070000000,
           6070000000,
           6070000000,
           4950000000,
           4950000000,
           7750000000,
           7750000000,
           7750000000,
           4790000000,
           6250000000,
           6250000000,
           6250000000,
           2810000000,
           2810000000,
           2810000000,
           4269999999.9999995,
           4269999999.9999995,
           5480000000,
           3280000000,
           3280000000,
           3420000000,
           3420000000,
           3420000000,
           3570000000,
           3570000000,
           3200000000,
           6250000000,
           6250000000,
           6250000000,
           6250000000,
           1590000000,
           1590000000,
           2680000000,
           2520000000,
           2520000000,
           2520000000,
           2380000000,
           2029999999.9999998,
           2210000000,
           2210000000,
           1140000000,
           2130000000,
           1280000000,
           1280000000,
           1700000000,
           1280000000,
           1280000000,
           1230000000,
           2280000000,
           1500000000,
           1500000000,
           1500000000,
           1550000000,
           1990000000,
           1250000000,
           1250000000,
           1250000000,
           1250000000,
           1190000000,
           1190000000,
           1020000000,
           1020000000,
           1840000000,
           4530000000,
           1670000000,
           1670000000,
           1270000000,
           1590000000,
           1270000000,
           1270000000,
           745650000,
           1840000000,
           1840000000,
           775780000,
           3230000000,
           1750000000,
           1750000000,
           1680000000,
           1020000000,
           1480000000,
           1470000000,
           1560000000,
           525610000,
           15420000,
           120910000,
           1200000000,
           429330000,
           429330000,
           429330000,
           1390000000,
           1040000000,
           957450000,
           1120000000,
           1300000000,
           256670000.00000003,
           1360000000,
           2270000000
          ],
          "sizemode": "area",
          "sizeref": 33650000,
          "symbol": "circle"
         },
         "mode": "markers",
         "name": "",
         "orientation": "v",
         "showlegend": false,
         "type": "scatter",
         "x": [
          0.01,
          0.03,
          0.03,
          0.03,
          0.04,
          0.01,
          0.02,
          0.02,
          0.01,
          0.01,
          0.01,
          0.4,
          0.01,
          0.01,
          0.01,
          0.12,
          0.42,
          0.12,
          0.02,
          0.02,
          0.01,
          0.31,
          0.31,
          0.69,
          0.68,
          0.69,
          0.42,
          0.41,
          0.01,
          0.14,
          0.14,
          0.14,
          0.13,
          0.47,
          0.47,
          0.1,
          0.7,
          0.7,
          0.71,
          0.06,
          0.44,
          0.58,
          0.58,
          2.36,
          0.01,
          2.02,
          2.02,
          0.12,
          2.01,
          1.12,
          1.04,
          0.19,
          0.86,
          0.86,
          0.86,
          0.05,
          0.23,
          0.94,
          0.94,
          0.94,
          0.94,
          0.01,
          0.02,
          0.1,
          0.1,
          0.21,
          0.01,
          0.31,
          0.31,
          0.02,
          0.55,
          0.39,
          0.39,
          0.41,
          0.45,
          0.45,
          0.31,
          0.05,
          0.43,
          0.43,
          0.87,
          0.31,
          0.28,
          0.07,
          0.23,
          1.26,
          0.03,
          0.02,
          0.37,
          1.04,
          1.04,
          1.04,
          0.22,
          1.1,
          0.25,
          0.56,
          0.1,
          0.08,
          0.16,
          0.01
         ],
         "xaxis": "x",
         "y": [
          0.01,
          -0.03,
          -0.03,
          -0.03,
          -0.04,
          -0.01,
          0.02,
          0.02,
          0.01,
          0.01,
          0.01,
          0.4,
          0.01,
          0.01,
          0.01,
          0.12,
          -0.42,
          0.12,
          -0.02,
          -0.02,
          0.01,
          -0.31,
          -0.31,
          -0.69,
          -0.68,
          -0.69,
          -0.42,
          -0.41,
          0.01,
          -0.14,
          -0.14,
          -0.14,
          -0.13,
          -0.47,
          -0.47,
          -0.1,
          -0.7,
          -0.7,
          -0.71,
          0.06,
          0.44,
          -0.58,
          -0.58,
          -2.36,
          0.01,
          2.02,
          2.02,
          0.12,
          2.01,
          1.12,
          1.04,
          -0.19,
          -0.86,
          -0.86,
          -0.86,
          0.05,
          -0.23,
          -0.94,
          -0.94,
          -0.94,
          -0.94,
          -0.01,
          -0.02,
          0.1,
          0.1,
          0.21,
          0.01,
          -0.31,
          -0.31,
          -0.02,
          0.55,
          -0.39,
          -0.39,
          0.41,
          0.45,
          0.45,
          0.31,
          -0.05,
          0.43,
          0.43,
          0.87,
          0.31,
          -0.28,
          0.07,
          0.23,
          1.26,
          0.03,
          0.02,
          0.37,
          -1.04,
          -1.04,
          -1.04,
          0.22,
          -1.1,
          -0.25,
          0.56,
          0.1,
          -0.08,
          -0.16,
          -0.01
         ],
         "yaxis": "y"
        }
       ],
       "layout": {
        "annotations": [
         {
          "arrowhead": 1,
          "ax": 30,
          "ay": -40,
          "bgcolor": "rgba(255,255,255,0.8)",
          "font": {
           "color": "firebrick",
           "size": 10
          },
          "showarrow": true,
          "text": "Credit Suisse Lux Global Robotics Equity Fund B US",
          "textangle": 45,
          "x": 2.36,
          "y": -2.36
         },
         {
          "arrowhead": 1,
          "ax": -30,
          "ay": -40,
          "bgcolor": "rgba(255,255,255,0.8)",
          "font": {
           "color": "firebrick",
           "size": 10
          },
          "showarrow": true,
          "text": "H2O Multibonds FCP IEUR C",
          "textangle": 0,
          "x": 2.02,
          "y": 2.02
         },
         {
          "arrowhead": 1,
          "ax": 30,
          "ay": -40,
          "bgcolor": "rgba(255,255,255,0.8)",
          "font": {
           "color": "firebrick",
           "size": 10
          },
          "showarrow": true,
          "text": "H2O Multibonds FCP SREUR C",
          "textangle": 45,
          "x": 2.02,
          "y": 2.02
         },
         {
          "arrowhead": 1,
          "ax": -30,
          "ay": -40,
          "bgcolor": "rgba(255,255,255,0.8)",
          "font": {
           "color": "firebrick",
           "size": 10
          },
          "showarrow": true,
          "text": "H2O Multibonds FCP NEUR C",
          "textangle": 0,
          "x": 2.01,
          "y": 2.01
         },
         {
          "arrowhead": 1,
          "ax": 30,
          "ay": -40,
          "bgcolor": "rgba(255,255,255,0.8)",
          "font": {
           "color": "firebrick",
           "size": 10
          },
          "showarrow": true,
          "text": "Ofi Financial Investment - Precious Metals R",
          "textangle": 45,
          "x": 1.26,
          "y": 1.26
         },
         {
          "arrowhead": 1,
          "ax": 30,
          "ay": -40,
          "bgcolor": "rgba(255,255,255,0.8)",
          "font": {
           "color": "firebrick",
           "size": 10
          },
          "showarrow": true,
          "text": "H2O Multibonds FCP RUSD C",
          "textangle": 45,
          "x": 1.12,
          "y": 1.12
         },
         {
          "arrowhead": 1,
          "ax": -30,
          "ay": -40,
          "bgcolor": "rgba(255,255,255,0.8)",
          "font": {
           "color": "firebrick",
           "size": 10
          },
          "showarrow": true,
          "text": "BDL Convictions",
          "textangle": 0,
          "x": 1.1,
          "y": -1.1
         },
         {
          "arrowhead": 1,
          "ax": 0,
          "ay": 40,
          "bgcolor": "rgba(255,255,255,0.8)",
          "font": {
           "color": "firebrick",
           "size": 10
          },
          "showarrow": true,
          "text": "CPR Silver Age E",
          "textangle": 0,
          "x": 1.04,
          "y": 1.04
         },
         {
          "arrowhead": 1,
          "ax": 0,
          "ay": 40,
          "bgcolor": "rgba(255,255,255,0.8)",
          "font": {
           "color": "firebrick",
           "size": 10
          },
          "showarrow": true,
          "text": "Groupama Avenir Euro I",
          "textangle": 0,
          "x": 1.04,
          "y": -1.04
         },
         {
          "arrowhead": 1,
          "ax": -30,
          "ay": -40,
          "bgcolor": "rgba(255,255,255,0.8)",
          "font": {
           "color": "firebrick",
           "size": 10
          },
          "showarrow": true,
          "text": "Groupama Avenir Euro MC",
          "textangle": 0,
          "x": 1.04,
          "y": -1.04
         },
         {
          "arrowhead": 1,
          "ax": 30,
          "ay": -40,
          "bgcolor": "rgba(255,255,255,0.8)",
          "font": {
           "color": "firebrick",
           "size": 10
          },
          "showarrow": true,
          "text": "Groupama Avenir Euro N",
          "textangle": 45,
          "x": 1.04,
          "y": -1.04
         },
         {
          "arrowhead": 2,
          "ax": 50,
          "ay": -60,
          "bordercolor": "black",
          "borderwidth": 1,
          "font": {
           "color": "darkblue",
           "family": "Arial Black",
           "size": 12
          },
          "showarrow": true,
          "text": "BDL Convictions",
          "x": 1.1,
          "y": -1.1
         }
        ],
        "coloraxis": {
         "colorbar": {
          "title": {
           "text": "Risk Level"
          }
         },
         "colorscale": [
          [
           0,
           "#440154"
          ],
          [
           0.1111111111111111,
           "#482878"
          ],
          [
           0.2222222222222222,
           "#3e4989"
          ],
          [
           0.3333333333333333,
           "#31688e"
          ],
          [
           0.4444444444444444,
           "#26828e"
          ],
          [
           0.5555555555555556,
           "#1f9e89"
          ],
          [
           0.6666666666666666,
           "#35b779"
          ],
          [
           0.7777777777777778,
           "#6ece58"
          ],
          [
           0.8888888888888888,
           "#b5de2b"
          ],
          [
           1,
           "#fde725"
          ]
         ]
        },
        "height": 800,
        "hoverlabel": {
         "bgcolor": "white",
         "font": {
          "family": "Arial",
          "size": 12
         }
        },
        "legend": {
         "itemsizing": "constant",
         "tracegroupgap": 0
        },
        "template": {
         "data": {
          "bar": [
           {
            "error_x": {
             "color": "#2a3f5f"
            },
            "error_y": {
             "color": "#2a3f5f"
            },
            "marker": {
             "line": {
              "color": "#E5ECF6",
              "width": 0.5
             },
             "pattern": {
              "fillmode": "overlay",
              "size": 10,
              "solidity": 0.2
             }
            },
            "type": "bar"
           }
          ],
          "barpolar": [
           {
            "marker": {
             "line": {
              "color": "#E5ECF6",
              "width": 0.5
             },
             "pattern": {
              "fillmode": "overlay",
              "size": 10,
              "solidity": 0.2
             }
            },
            "type": "barpolar"
           }
          ],
          "carpet": [
           {
            "aaxis": {
             "endlinecolor": "#2a3f5f",
             "gridcolor": "white",
             "linecolor": "white",
             "minorgridcolor": "white",
             "startlinecolor": "#2a3f5f"
            },
            "baxis": {
             "endlinecolor": "#2a3f5f",
             "gridcolor": "white",
             "linecolor": "white",
             "minorgridcolor": "white",
             "startlinecolor": "#2a3f5f"
            },
            "type": "carpet"
           }
          ],
          "choropleth": [
           {
            "colorbar": {
             "outlinewidth": 0,
             "ticks": ""
            },
            "type": "choropleth"
           }
          ],
          "contour": [
           {
            "colorbar": {
             "outlinewidth": 0,
             "ticks": ""
            },
            "colorscale": [
             [
              0,
              "#0d0887"
             ],
             [
              0.1111111111111111,
              "#46039f"
             ],
             [
              0.2222222222222222,
              "#7201a8"
             ],
             [
              0.3333333333333333,
              "#9c179e"
             ],
             [
              0.4444444444444444,
              "#bd3786"
             ],
             [
              0.5555555555555556,
              "#d8576b"
             ],
             [
              0.6666666666666666,
              "#ed7953"
             ],
             [
              0.7777777777777778,
              "#fb9f3a"
             ],
             [
              0.8888888888888888,
              "#fdca26"
             ],
             [
              1,
              "#f0f921"
             ]
            ],
            "type": "contour"
           }
          ],
          "contourcarpet": [
           {
            "colorbar": {
             "outlinewidth": 0,
             "ticks": ""
            },
            "type": "contourcarpet"
           }
          ],
          "heatmap": [
           {
            "colorbar": {
             "outlinewidth": 0,
             "ticks": ""
            },
            "colorscale": [
             [
              0,
              "#0d0887"
             ],
             [
              0.1111111111111111,
              "#46039f"
             ],
             [
              0.2222222222222222,
              "#7201a8"
             ],
             [
              0.3333333333333333,
              "#9c179e"
             ],
             [
              0.4444444444444444,
              "#bd3786"
             ],
             [
              0.5555555555555556,
              "#d8576b"
             ],
             [
              0.6666666666666666,
              "#ed7953"
             ],
             [
              0.7777777777777778,
              "#fb9f3a"
             ],
             [
              0.8888888888888888,
              "#fdca26"
             ],
             [
              1,
              "#f0f921"
             ]
            ],
            "type": "heatmap"
           }
          ],
          "heatmapgl": [
           {
            "colorbar": {
             "outlinewidth": 0,
             "ticks": ""
            },
            "colorscale": [
             [
              0,
              "#0d0887"
             ],
             [
              0.1111111111111111,
              "#46039f"
             ],
             [
              0.2222222222222222,
              "#7201a8"
             ],
             [
              0.3333333333333333,
              "#9c179e"
             ],
             [
              0.4444444444444444,
              "#bd3786"
             ],
             [
              0.5555555555555556,
              "#d8576b"
             ],
             [
              0.6666666666666666,
              "#ed7953"
             ],
             [
              0.7777777777777778,
              "#fb9f3a"
             ],
             [
              0.8888888888888888,
              "#fdca26"
             ],
             [
              1,
              "#f0f921"
             ]
            ],
            "type": "heatmapgl"
           }
          ],
          "histogram": [
           {
            "marker": {
             "pattern": {
              "fillmode": "overlay",
              "size": 10,
              "solidity": 0.2
             }
            },
            "type": "histogram"
           }
          ],
          "histogram2d": [
           {
            "colorbar": {
             "outlinewidth": 0,
             "ticks": ""
            },
            "colorscale": [
             [
              0,
              "#0d0887"
             ],
             [
              0.1111111111111111,
              "#46039f"
             ],
             [
              0.2222222222222222,
              "#7201a8"
             ],
             [
              0.3333333333333333,
              "#9c179e"
             ],
             [
              0.4444444444444444,
              "#bd3786"
             ],
             [
              0.5555555555555556,
              "#d8576b"
             ],
             [
              0.6666666666666666,
              "#ed7953"
             ],
             [
              0.7777777777777778,
              "#fb9f3a"
             ],
             [
              0.8888888888888888,
              "#fdca26"
             ],
             [
              1,
              "#f0f921"
             ]
            ],
            "type": "histogram2d"
           }
          ],
          "histogram2dcontour": [
           {
            "colorbar": {
             "outlinewidth": 0,
             "ticks": ""
            },
            "colorscale": [
             [
              0,
              "#0d0887"
             ],
             [
              0.1111111111111111,
              "#46039f"
             ],
             [
              0.2222222222222222,
              "#7201a8"
             ],
             [
              0.3333333333333333,
              "#9c179e"
             ],
             [
              0.4444444444444444,
              "#bd3786"
             ],
             [
              0.5555555555555556,
              "#d8576b"
             ],
             [
              0.6666666666666666,
              "#ed7953"
             ],
             [
              0.7777777777777778,
              "#fb9f3a"
             ],
             [
              0.8888888888888888,
              "#fdca26"
             ],
             [
              1,
              "#f0f921"
             ]
            ],
            "type": "histogram2dcontour"
           }
          ],
          "mesh3d": [
           {
            "colorbar": {
             "outlinewidth": 0,
             "ticks": ""
            },
            "type": "mesh3d"
           }
          ],
          "parcoords": [
           {
            "line": {
             "colorbar": {
              "outlinewidth": 0,
              "ticks": ""
             }
            },
            "type": "parcoords"
           }
          ],
          "pie": [
           {
            "automargin": true,
            "type": "pie"
           }
          ],
          "scatter": [
           {
            "fillpattern": {
             "fillmode": "overlay",
             "size": 10,
             "solidity": 0.2
            },
            "type": "scatter"
           }
          ],
          "scatter3d": [
           {
            "line": {
             "colorbar": {
              "outlinewidth": 0,
              "ticks": ""
             }
            },
            "marker": {
             "colorbar": {
              "outlinewidth": 0,
              "ticks": ""
             }
            },
            "type": "scatter3d"
           }
          ],
          "scattercarpet": [
           {
            "marker": {
             "colorbar": {
              "outlinewidth": 0,
              "ticks": ""
             }
            },
            "type": "scattercarpet"
           }
          ],
          "scattergeo": [
           {
            "marker": {
             "colorbar": {
              "outlinewidth": 0,
              "ticks": ""
             }
            },
            "type": "scattergeo"
           }
          ],
          "scattergl": [
           {
            "marker": {
             "colorbar": {
              "outlinewidth": 0,
              "ticks": ""
             }
            },
            "type": "scattergl"
           }
          ],
          "scattermapbox": [
           {
            "marker": {
             "colorbar": {
              "outlinewidth": 0,
              "ticks": ""
             }
            },
            "type": "scattermapbox"
           }
          ],
          "scatterpolar": [
           {
            "marker": {
             "colorbar": {
              "outlinewidth": 0,
              "ticks": ""
             }
            },
            "type": "scatterpolar"
           }
          ],
          "scatterpolargl": [
           {
            "marker": {
             "colorbar": {
              "outlinewidth": 0,
              "ticks": ""
             }
            },
            "type": "scatterpolargl"
           }
          ],
          "scatterternary": [
           {
            "marker": {
             "colorbar": {
              "outlinewidth": 0,
              "ticks": ""
             }
            },
            "type": "scatterternary"
           }
          ],
          "surface": [
           {
            "colorbar": {
             "outlinewidth": 0,
             "ticks": ""
            },
            "colorscale": [
             [
              0,
              "#0d0887"
             ],
             [
              0.1111111111111111,
              "#46039f"
             ],
             [
              0.2222222222222222,
              "#7201a8"
             ],
             [
              0.3333333333333333,
              "#9c179e"
             ],
             [
              0.4444444444444444,
              "#bd3786"
             ],
             [
              0.5555555555555556,
              "#d8576b"
             ],
             [
              0.6666666666666666,
              "#ed7953"
             ],
             [
              0.7777777777777778,
              "#fb9f3a"
             ],
             [
              0.8888888888888888,
              "#fdca26"
             ],
             [
              1,
              "#f0f921"
             ]
            ],
            "type": "surface"
           }
          ],
          "table": [
           {
            "cells": {
             "fill": {
              "color": "#EBF0F8"
             },
             "line": {
              "color": "white"
             }
            },
            "header": {
             "fill": {
              "color": "#C8D4E3"
             },
             "line": {
              "color": "white"
             }
            },
            "type": "table"
           }
          ]
         },
         "layout": {
          "annotationdefaults": {
           "arrowcolor": "#2a3f5f",
           "arrowhead": 0,
           "arrowwidth": 1
          },
          "autotypenumbers": "strict",
          "coloraxis": {
           "colorbar": {
            "outlinewidth": 0,
            "ticks": ""
           }
          },
          "colorscale": {
           "diverging": [
            [
             0,
             "#8e0152"
            ],
            [
             0.1,
             "#c51b7d"
            ],
            [
             0.2,
             "#de77ae"
            ],
            [
             0.3,
             "#f1b6da"
            ],
            [
             0.4,
             "#fde0ef"
            ],
            [
             0.5,
             "#f7f7f7"
            ],
            [
             0.6,
             "#e6f5d0"
            ],
            [
             0.7,
             "#b8e186"
            ],
            [
             0.8,
             "#7fbc41"
            ],
            [
             0.9,
             "#4d9221"
            ],
            [
             1,
             "#276419"
            ]
           ],
           "sequential": [
            [
             0,
             "#0d0887"
            ],
            [
             0.1111111111111111,
             "#46039f"
            ],
            [
             0.2222222222222222,
             "#7201a8"
            ],
            [
             0.3333333333333333,
             "#9c179e"
            ],
            [
             0.4444444444444444,
             "#bd3786"
            ],
            [
             0.5555555555555556,
             "#d8576b"
            ],
            [
             0.6666666666666666,
             "#ed7953"
            ],
            [
             0.7777777777777778,
             "#fb9f3a"
            ],
            [
             0.8888888888888888,
             "#fdca26"
            ],
            [
             1,
             "#f0f921"
            ]
           ],
           "sequentialminus": [
            [
             0,
             "#0d0887"
            ],
            [
             0.1111111111111111,
             "#46039f"
            ],
            [
             0.2222222222222222,
             "#7201a8"
            ],
            [
             0.3333333333333333,
             "#9c179e"
            ],
            [
             0.4444444444444444,
             "#bd3786"
            ],
            [
             0.5555555555555556,
             "#d8576b"
            ],
            [
             0.6666666666666666,
             "#ed7953"
            ],
            [
             0.7777777777777778,
             "#fb9f3a"
            ],
            [
             0.8888888888888888,
             "#fdca26"
            ],
            [
             1,
             "#f0f921"
            ]
           ]
          },
          "colorway": [
           "#636efa",
           "#EF553B",
           "#00cc96",
           "#ab63fa",
           "#FFA15A",
           "#19d3f3",
           "#FF6692",
           "#B6E880",
           "#FF97FF",
           "#FECB52"
          ],
          "font": {
           "color": "#2a3f5f"
          },
          "geo": {
           "bgcolor": "white",
           "lakecolor": "white",
           "landcolor": "#E5ECF6",
           "showlakes": true,
           "showland": true,
           "subunitcolor": "white"
          },
          "hoverlabel": {
           "align": "left"
          },
          "hovermode": "closest",
          "mapbox": {
           "style": "light"
          },
          "paper_bgcolor": "white",
          "plot_bgcolor": "#E5ECF6",
          "polar": {
           "angularaxis": {
            "gridcolor": "white",
            "linecolor": "white",
            "ticks": ""
           },
           "bgcolor": "#E5ECF6",
           "radialaxis": {
            "gridcolor": "white",
            "linecolor": "white",
            "ticks": ""
           }
          },
          "scene": {
           "xaxis": {
            "backgroundcolor": "#E5ECF6",
            "gridcolor": "white",
            "gridwidth": 2,
            "linecolor": "white",
            "showbackground": true,
            "ticks": "",
            "zerolinecolor": "white"
           },
           "yaxis": {
            "backgroundcolor": "#E5ECF6",
            "gridcolor": "white",
            "gridwidth": 2,
            "linecolor": "white",
            "showbackground": true,
            "ticks": "",
            "zerolinecolor": "white"
           },
           "zaxis": {
            "backgroundcolor": "#E5ECF6",
            "gridcolor": "white",
            "gridwidth": 2,
            "linecolor": "white",
            "showbackground": true,
            "ticks": "",
            "zerolinecolor": "white"
           }
          },
          "shapedefaults": {
           "line": {
            "color": "#2a3f5f"
           }
          },
          "ternary": {
           "aaxis": {
            "gridcolor": "white",
            "linecolor": "white",
            "ticks": ""
           },
           "baxis": {
            "gridcolor": "white",
            "linecolor": "white",
            "ticks": ""
           },
           "bgcolor": "#E5ECF6",
           "caxis": {
            "gridcolor": "white",
            "linecolor": "white",
            "ticks": ""
           }
          },
          "title": {
           "x": 0.05
          },
          "xaxis": {
           "automargin": true,
           "gridcolor": "white",
           "linecolor": "white",
           "ticks": "",
           "title": {
            "standoff": 15
           },
           "zerolinecolor": "white",
           "zerolinewidth": 2
          },
          "yaxis": {
           "automargin": true,
           "gridcolor": "white",
           "linecolor": "white",
           "ticks": "",
           "title": {
            "standoff": 15
           },
           "zerolinecolor": "white",
           "zerolinewidth": 2
          }
         }
        },
        "title": {
         "text": "<b>French Funds - Optimized Comparison</b>"
        },
        "width": 1200,
        "xaxis": {
         "anchor": "y",
         "domain": [
          0,
          1
         ],
         "title": {
          "text": "Risk Level"
         }
        },
        "yaxis": {
         "anchor": "x",
         "domain": [
          0,
          1
         ],
         "title": {
          "text": "Change Rate"
         }
        }
       }
      }
     },
     "metadata": {},
     "output_type": "display_data"
    }
   ],
   "source": [
    "df = funds_df.copy()\n",
    "df['Total_Assets'] = df['Total_Assets'].str.replace('B', '').str.replace('M', '').astype(float)\n",
    "df['Total_Assets'] = df.apply(\n",
    "    lambda x: x['Total_Assets']*1e9 if 'B' in funds_df.loc[x.name,'Total_Assets'] else x['Total_Assets']*1e6, \n",
    "    axis=1\n",
    ")\n",
    "df['Risk'] = df['Chg'].abs()\n",
    "\n",
    "fig = px.scatter(\n",
    "    df,\n",
    "    x=\"Risk\",\n",
    "    y=\"Chg\",\n",
    "    size=\"Total_Assets\",\n",
    "    color=\"Risk\",\n",
    "    hover_name=\"Name\",\n",
    "    size_max=40,\n",
    "    color_continuous_scale=px.colors.sequential.Viridis,\n",
    "    labels={'Chg': 'Change Rate', 'Risk': 'Risk Level'},\n",
    "    title='<b>French Funds - Optimized Comparison</b>'\n",
    ")\n",
    "\n",
    "fig.update_layout(\n",
    "    hoverlabel=dict(bgcolor=\"white\", font_size=12, font_family=\"Arial\"),\n",
    "    width=1200,\n",
    "    height=800\n",
    ")\n",
    "\n",
    "# Smart label placement optimization\n",
    "highlighted_funds = df[(df['Risk'] > 1) | (df['Chg'].abs() > 1)].sort_values('Risk', ascending=False)\n",
    "\n",
    "# Dynamic offset calculation to prevent overlaps\n",
    "for i, row in highlighted_funds.iterrows():\n",
    "    offset_multiplier = (i % 3)  # 3 different positions\n",
    "    fig.add_annotation(\n",
    "        x=row['Risk'],\n",
    "        y=row['Chg'],\n",
    "        text=row['Name'],\n",
    "        showarrow=True,\n",
    "        arrowhead=1,\n",
    "        ax=-30 if offset_multiplier == 0 else 30 if offset_multiplier == 1 else 0,\n",
    "        ay=-40 if offset_multiplier != 2 else 40,\n",
    "        font=dict(color='firebrick', size=10),\n",
    "        textangle=45 if offset_multiplier == 1 else 0,\n",
    "        bgcolor='rgba(255,255,255,0.8)'\n",
    "    )\n",
    "\n",
    "# Manual adjustments for specific funds\n",
    "special_funds = [\"BDL Convictions\", \"Groupama Avenir Euro\"]\n",
    "for name in special_funds:\n",
    "    if name in df['Name'].values:\n",
    "        fund_data = df[df['Name'] == name].iloc[0]\n",
    "        fig.add_annotation(\n",
    "            x=fund_data['Risk'],\n",
    "            y=fund_data['Chg'],\n",
    "            text=name,\n",
    "            showarrow=True,\n",
    "            arrowhead=2,\n",
    "            ax=50,\n",
    "            ay=-60,\n",
    "            font=dict(color='darkblue', size=12, family='Arial Black'),\n",
    "            bordercolor='black',\n",
    "            borderwidth=1\n",
    "        )\n",
    "\n",
    "fig.show()"
   ]
  }
 ],
 "metadata": {
  "kernelspec": {
   "display_name": "base",
   "language": "python",
   "name": "python3"
  },
  "language_info": {
   "codemirror_mode": {
    "name": "ipython",
    "version": 3
   },
   "file_extension": ".py",
   "mimetype": "text/x-python",
   "name": "python",
   "nbconvert_exporter": "python",
   "pygments_lexer": "ipython3",
   "version": "3.12.7"
  }
 },
 "nbformat": 4,
 "nbformat_minor": 2
}
