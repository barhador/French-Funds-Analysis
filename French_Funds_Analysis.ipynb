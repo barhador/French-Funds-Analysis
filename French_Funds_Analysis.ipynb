{
 "cells": [
  {
   "cell_type": "markdown",
   "metadata": {},
   "source": [
    "# The fonctions to import\n"
   ]
  },
  {
   "cell_type": "code",
   "execution_count": 1,
   "metadata": {},
   "outputs": [],
   "source": [
    "import numpy as np\n",
    "import requests\n",
    "from bs4 import BeautifulSoup\n",
    "import pandas as pd\n",
    "import matplotlib.pyplot as plt\n",
    "import seaborn as sns\n",
    "sns.set_palette('deep')\n",
    "\n"
   ]
  },
  {
   "cell_type": "markdown",
   "metadata": {},
   "source": [
    "# The scraping of the funds of french private company's"
   ]
  },
  {
   "cell_type": "code",
   "execution_count": 2,
   "metadata": {},
   "outputs": [
    {
     "name": "stdout",
     "output_type": "stream",
     "text": [
      "                                         Name   Symbol         Last   Chg  \\\n",
      "0              Amundi Euro Liquidity SRI IC C  0P0000.  249,503.940  0.02   \n",
      "1              Carmignac Patrimoine A EUR Acc  0P0000.      718.330 -0.58   \n",
      "2             Carmignac Patrimoine A EUR Ydis  0P0000.      117.430 -0.58   \n",
      "3              Carmignac Patrimoine E EUR Acc  0P0000.      172.700 -0.58   \n",
      "4          Carmignac Patrimoine A CHF Acc Hdg  0P0000.      115.780 -0.60   \n",
      "..                                        ...      ...          ...   ...   \n",
      "95                               ALM Offensif  0P0000.      321.760 -0.09   \n",
      "96              29 Haussmann Euro Rendement C  0P0000.    1,628.530 -0.61   \n",
      "97  Candriam Index Arbitrage Classique en EUR  0P0000.    1,517.410  0.06   \n",
      "98          BNP Paribas Actions Monde Classic  0P0000.       32.390 -1.10   \n",
      "99   Natixis Ultra Short Term Bonds Plus SI C  0P0000.    1,711.400 -0.01   \n",
      "\n",
      "   Total_Assets   Time  \n",
      "0        55.37B  09/03  \n",
      "1         6.16B  06/03  \n",
      "2         6.16B  06/03  \n",
      "3         6.16B  06/03  \n",
      "4         6.16B  06/03  \n",
      "..          ...    ...  \n",
      "95        1.16B  05/03  \n",
      "96        1.31B  05/03  \n",
      "97      257.12M  06/03  \n",
      "98        1.42B  05/03  \n",
      "99        2.22B  06/03  \n",
      "\n",
      "[100 rows x 6 columns]\n"
     ]
    }
   ],
   "source": [
    "\n",
    "\n",
    "def scrape_french_funds():\n",
    "    url = 'https://www.investing.com/funds/france-funds'\n",
    "    headers = {'User-Agent': 'Mozilla/5.0 (Windows NT 10.0; Win64; x64) AppleWebKit/537.36'}\n",
    "\n",
    "    try:\n",
    "        response = requests.get(url, headers=headers)\n",
    "        response.raise_for_status()\n",
    "        soup = BeautifulSoup(response.content, 'html.parser')\n",
    "\n",
    "        Name = []\n",
    "        Symbol = []\n",
    "        Last = []\n",
    "        Chg = []\n",
    "        Total_Assets = []\n",
    "        Time = []\n",
    "\n",
    "        table = soup.find('table')\n",
    "        if table:\n",
    "            rows = table.find_all('tr')[1:]  \n",
    "            for row in rows:\n",
    "                cols = row.find_all('td')\n",
    "                # print(f\"Columns in row: {[col.text.strip() for col in cols]}\") # DEBUG PRINT: Show column contents\n",
    "                if len(cols) >= 8:  \n",
    "                    Name.append(cols[1].text.strip())  \n",
    "                    Symbol.append(cols[2].text.strip()) \n",
    "                    Last.append(cols[3].text.strip())   \n",
    "                    Total_Assets.append(cols[5].text.strip()) \n",
    "                    Time.append(cols[6].text.strip())   \n",
    "                    try:\n",
    "                        Chg_value = float(cols[4].text.strip().replace('%', '')) \n",
    "                        Chg.append(Chg_value)\n",
    "                    except ValueError:\n",
    "                        Chg.append(None)\n",
    "                        print(f\"Warning: Could not convert '{cols[4].text.strip()}' to float for 'Chg'\")\n",
    "\n",
    "        # Create DataFrame\n",
    "        df = pd.DataFrame({\n",
    "            'Name': Name,\n",
    "            'Symbol': Symbol,\n",
    "            'Last': Last,\n",
    "            'Chg': Chg,\n",
    "            'Total_Assets': Total_Assets,\n",
    "            'Time': Time\n",
    "            })\n",
    "\n",
    "        return df\n",
    "\n",
    "    except Exception as e:\n",
    "        print(f'Error scraping data: {e}')\n",
    "        return None\n",
    "\n",
    "df = scrape_french_funds()\n",
    "print(df)"
   ]
  },
  {
   "cell_type": "markdown",
   "metadata": {},
   "source": [
    "# Fetch the data\n"
   ]
  },
  {
   "cell_type": "code",
   "execution_count": 3,
   "metadata": {},
   "outputs": [
    {
     "name": "stdout",
     "output_type": "stream",
     "text": [
      "French Companies Funds Data:\n"
     ]
    },
    {
     "data": {
      "application/vnd.microsoft.datawrangler.viewer.v0+json": {
       "columns": [
        {
         "name": "index",
         "rawType": "int64",
         "type": "integer"
        },
        {
         "name": "Name",
         "rawType": "object",
         "type": "string"
        },
        {
         "name": "Symbol",
         "rawType": "object",
         "type": "string"
        },
        {
         "name": "Last",
         "rawType": "object",
         "type": "string"
        },
        {
         "name": "Chg",
         "rawType": "float64",
         "type": "float"
        },
        {
         "name": "Total_Assets",
         "rawType": "object",
         "type": "string"
        },
        {
         "name": "Time",
         "rawType": "object",
         "type": "string"
        }
       ],
       "conversionMethod": "pd.DataFrame",
       "ref": "173646c1-bf07-4bbf-845d-ac959da6eba0",
       "rows": [
        [
         "0",
         "Amundi Euro Liquidity SRI IC C",
         "0P0000.",
         "249,503.940",
         "0.02",
         "55.37B",
         "09/03"
        ],
        [
         "1",
         "Carmignac Patrimoine A EUR Acc",
         "0P0000.",
         "718.330",
         "-0.58",
         "6.16B",
         "06/03"
        ],
        [
         "2",
         "Carmignac Patrimoine A EUR Ydis",
         "0P0000.",
         "117.430",
         "-0.58",
         "6.16B",
         "06/03"
        ],
        [
         "3",
         "Carmignac Patrimoine E EUR Acc",
         "0P0000.",
         "172.700",
         "-0.58",
         "6.16B",
         "06/03"
        ],
        [
         "4",
         "Carmignac Patrimoine A CHF Acc Hdg",
         "0P0000.",
         "115.780",
         "-0.6",
         "6.16B",
         "06/03"
        ],
        [
         "5",
         "Carmignac Patrimoine A USD Acc Hdg",
         "0P0000.",
         "148.120",
         "-0.57",
         "6.16B",
         "06/03"
        ],
        [
         "6",
         "Carmignac Sécurité A EUR Ydis",
         "0P0000.",
         "99.670",
         "-0.06",
         "4.91B",
         "06/03"
        ],
        [
         "7",
         "Carmignac Sécurité A EUR Acc",
         "0P0000.",
         "1,887.850",
         "-0.06",
         "4.91B",
         "06/03"
        ],
        [
         "8",
         "Groupama Trֳ©sorerie R",
         "0P0001.",
         "534.560",
         "0.01",
         "7.75B",
         "06/03"
        ],
        [
         "9",
         "Groupama Trésorerie IC",
         "0P0000.",
         "43,099.740",
         "0.01",
         "7.75B",
         "06/03"
        ],
        [
         "10",
         "Groupama Trésorerie M",
         "0P0000.",
         "1,110.500",
         "0.01",
         "7.75B",
         "06/03"
        ],
        [
         "11",
         "Afer-Sfer",
         "0P0000.",
         "81.890",
         "0.55",
         "4.88B",
         "05/03"
        ],
        [
         "12",
         "Groupama Entreprises IC",
         "0P0000.",
         "2,434.850",
         "0.01",
         "6.31B",
         "06/03"
        ],
        [
         "13",
         "Groupama Entreprises R",
         "0P0001.",
         "533.520",
         "0.01",
         "6.31B",
         "06/03"
        ],
        [
         "14",
         "Groupama Entreprises N",
         "0P0000.",
         "597.540",
         "0.01",
         "6.31B",
         "06/03"
        ],
        [
         "15",
         "Lazard Convertible Global R",
         "0P0000.",
         "499.160",
         "-1.21",
         "2.9B",
         "06/03"
        ],
        [
         "16",
         "Lazard Convertible Global PC H-EUR",
         "0P0001.",
         "1,939.540",
         "-0.81",
         "2.9B",
         "06/03"
        ],
        [
         "17",
         "Lazard Convertible Global A",
         "0P0000.",
         "1,836.430",
         "-1.21",
         "2.9B",
         "06/03"
        ],
        [
         "18",
         "Amundi 12 M I",
         "0P0000.",
         "116,466",
         "-0.06",
         "4.27B",
         "06/03"
        ],
        [
         "19",
         "Amundi 12 M E",
         "0P0000.",
         "11,288.210",
         "-0.06",
         "4.27B",
         "06/03"
        ],
        [
         "20",
         "Ofi RS Liquidités C/D",
         "0P0000.",
         "4,676.870",
         "0.01",
         "5.36B",
         "06/03"
        ],
        [
         "21",
         "BNP Paribas Aqua I",
         "0P0000.",
         "78,629.720",
         "0.07",
         "3.37B",
         "05/03"
        ],
        [
         "22",
         "BNP Paribas Aqua Classic",
         "0P0000.",
         "651.520",
         "0.07",
         "3.37B",
         "05/03"
        ],
        [
         "23",
         "Comgest Renaissance Europe Z",
         "0P0001.",
         "280.950",
         "-1.25",
         "3.63B",
         "06/03"
        ],
        [
         "24",
         "Renaissance Europe I",
         "0P0000.",
         "292.310",
         "-1.25",
         "3.63B",
         "06/03"
        ],
        [
         "25",
         "Renaissance Europe C",
         "0P0000.",
         "271.920",
         "-1.25",
         "3.63B",
         "06/03"
        ],
        [
         "26",
         "Carmignac Investissement E EUR Acc",
         "0P0000.",
         "287.430",
         "-1.73",
         "3.72B",
         "06/03"
        ],
        [
         "27",
         "Carmignac Investissement A EUR Acc",
         "0P0000.",
         "2,075.490",
         "-1.73",
         "3.72B",
         "06/03"
        ],
        [
         "28",
         "La Française Trésorerie ISR R",
         "0P0000.",
         "92,074.310",
         "0.01",
         "2.99B",
         "06/03"
        ],
        [
         "29",
         "R Valor D EUR",
         "0P0001.",
         "2,886.730",
         "0.3",
         "6.4B",
         "06/03"
        ],
        [
         "30",
         "R Valor F EUR",
         "0P0001.",
         "3,155.270",
         "0.3",
         "6.4B",
         "06/03"
        ],
        [
         "31",
         "R Valor C EUR",
         "0P0001.",
         "3,593.210",
         "0.3",
         "6.4B",
         "06/03"
        ],
        [
         "32",
         "R Valor P EUR",
         "0P0001.",
         "2,550.760",
         "0.3",
         "6.4B",
         "06/03"
        ],
        [
         "33",
         "Moneta Multi Caps D",
         "0P0000.",
         "320.390",
         "1.57",
         "1.63B",
         "06/03"
        ],
        [
         "34",
         "Moneta Multi Caps C",
         "0P0000.",
         "400.630",
         "1.57",
         "1.63B",
         "06/03"
        ],
        [
         "35",
         "Eurose C",
         "0P0000.",
         "449.050",
         "0.32",
         "2.69B",
         "06/03"
        ],
        [
         "36",
         "Comgest Monde I",
         "0P0000.",
         "37.460",
         "-1.76",
         "2.69B",
         "06/03"
        ],
        [
         "37",
         "Comgest Monde C",
         "0P0000.",
         "32.770",
         "-1.77",
         "2.69B",
         "06/03"
        ],
        [
         "38",
         "Comgest Monde Z",
         "0P0001.",
         "35.060",
         "-1.77",
         "2.69B",
         "06/03"
        ],
        [
         "39",
         "SG Flexible PC",
         "0P0000.",
         "203.590",
         "-0.79",
         "2.4B",
         "05/03"
        ],
        [
         "40",
         "CM-CIC Europe Growth C",
         "0P0000.",
         "8,364.970",
         "0.78",
         "2.1B",
         "05/03"
        ],
        [
         "41",
         "Afer Actions Euro A",
         "0P0000.",
         "227.680",
         "0.77",
         "2.25B",
         "06/03"
        ],
        [
         "42",
         "Afer Actions Euro I",
         "0P0000.",
         "217,708",
         "0.77",
         "2.25B",
         "06/03"
        ],
        [
         "43",
         "Credit Suisse Lux Global Robotics Equity Fund B US",
         "0P0001.",
         "23.420",
         "1.3",
         "1.21B",
         "05/03"
        ],
        [
         "44",
         "Swiss Life Funds F Bond Cash Equivalent I",
         "0P0000.",
         "11,546.200",
         "0.03",
         "2.15B",
         "06/03"
        ],
        [
         "45",
         "H2O Multibonds FCP IEUR C",
         "0P0001.",
         "301,741",
         "1.57",
         "1.29B",
         "06/03"
        ],
        [
         "46",
         "H2O Multibonds FCP SREUR C",
         "0P0001.",
         "129.390",
         "1.56",
         "1.29B",
         "06/03"
        ],
        [
         "47",
         "H2O Multibonds RC",
         "0P0001.",
         "521.160",
         "0.12",
         "1.7B",
         "05/07"
        ],
        [
         "48",
         "H2O Multibonds FCP NEUR C",
         "0P0001.",
         "203.130",
         "1.56",
         "1.29B",
         "06/03"
        ],
        [
         "49",
         "H2O Multibonds FCP RUSD C",
         "0P0001.",
         "275.680",
         "1.97",
         "1.29B",
         "06/03"
        ]
       ],
       "shape": {
        "columns": 6,
        "rows": 100
       }
      },
      "text/html": [
       "<div>\n",
       "<style scoped>\n",
       "    .dataframe tbody tr th:only-of-type {\n",
       "        vertical-align: middle;\n",
       "    }\n",
       "\n",
       "    .dataframe tbody tr th {\n",
       "        vertical-align: top;\n",
       "    }\n",
       "\n",
       "    .dataframe thead th {\n",
       "        text-align: right;\n",
       "    }\n",
       "</style>\n",
       "<table border=\"1\" class=\"dataframe\">\n",
       "  <thead>\n",
       "    <tr style=\"text-align: right;\">\n",
       "      <th></th>\n",
       "      <th>Name</th>\n",
       "      <th>Symbol</th>\n",
       "      <th>Last</th>\n",
       "      <th>Chg</th>\n",
       "      <th>Total_Assets</th>\n",
       "      <th>Time</th>\n",
       "    </tr>\n",
       "  </thead>\n",
       "  <tbody>\n",
       "    <tr>\n",
       "      <th>0</th>\n",
       "      <td>Amundi Euro Liquidity SRI IC C</td>\n",
       "      <td>0P0000.</td>\n",
       "      <td>249,503.940</td>\n",
       "      <td>0.02</td>\n",
       "      <td>55.37B</td>\n",
       "      <td>09/03</td>\n",
       "    </tr>\n",
       "    <tr>\n",
       "      <th>1</th>\n",
       "      <td>Carmignac Patrimoine A EUR Acc</td>\n",
       "      <td>0P0000.</td>\n",
       "      <td>718.330</td>\n",
       "      <td>-0.58</td>\n",
       "      <td>6.16B</td>\n",
       "      <td>06/03</td>\n",
       "    </tr>\n",
       "    <tr>\n",
       "      <th>2</th>\n",
       "      <td>Carmignac Patrimoine A EUR Ydis</td>\n",
       "      <td>0P0000.</td>\n",
       "      <td>117.430</td>\n",
       "      <td>-0.58</td>\n",
       "      <td>6.16B</td>\n",
       "      <td>06/03</td>\n",
       "    </tr>\n",
       "    <tr>\n",
       "      <th>3</th>\n",
       "      <td>Carmignac Patrimoine E EUR Acc</td>\n",
       "      <td>0P0000.</td>\n",
       "      <td>172.700</td>\n",
       "      <td>-0.58</td>\n",
       "      <td>6.16B</td>\n",
       "      <td>06/03</td>\n",
       "    </tr>\n",
       "    <tr>\n",
       "      <th>4</th>\n",
       "      <td>Carmignac Patrimoine A CHF Acc Hdg</td>\n",
       "      <td>0P0000.</td>\n",
       "      <td>115.780</td>\n",
       "      <td>-0.60</td>\n",
       "      <td>6.16B</td>\n",
       "      <td>06/03</td>\n",
       "    </tr>\n",
       "    <tr>\n",
       "      <th>...</th>\n",
       "      <td>...</td>\n",
       "      <td>...</td>\n",
       "      <td>...</td>\n",
       "      <td>...</td>\n",
       "      <td>...</td>\n",
       "      <td>...</td>\n",
       "    </tr>\n",
       "    <tr>\n",
       "      <th>95</th>\n",
       "      <td>ALM Offensif</td>\n",
       "      <td>0P0000.</td>\n",
       "      <td>321.760</td>\n",
       "      <td>-0.09</td>\n",
       "      <td>1.16B</td>\n",
       "      <td>05/03</td>\n",
       "    </tr>\n",
       "    <tr>\n",
       "      <th>96</th>\n",
       "      <td>29 Haussmann Euro Rendement C</td>\n",
       "      <td>0P0000.</td>\n",
       "      <td>1,628.530</td>\n",
       "      <td>-0.61</td>\n",
       "      <td>1.31B</td>\n",
       "      <td>05/03</td>\n",
       "    </tr>\n",
       "    <tr>\n",
       "      <th>97</th>\n",
       "      <td>Candriam Index Arbitrage Classique en EUR</td>\n",
       "      <td>0P0000.</td>\n",
       "      <td>1,517.410</td>\n",
       "      <td>0.06</td>\n",
       "      <td>257.12M</td>\n",
       "      <td>06/03</td>\n",
       "    </tr>\n",
       "    <tr>\n",
       "      <th>98</th>\n",
       "      <td>BNP Paribas Actions Monde Classic</td>\n",
       "      <td>0P0000.</td>\n",
       "      <td>32.390</td>\n",
       "      <td>-1.10</td>\n",
       "      <td>1.42B</td>\n",
       "      <td>05/03</td>\n",
       "    </tr>\n",
       "    <tr>\n",
       "      <th>99</th>\n",
       "      <td>Natixis Ultra Short Term Bonds Plus SI C</td>\n",
       "      <td>0P0000.</td>\n",
       "      <td>1,711.400</td>\n",
       "      <td>-0.01</td>\n",
       "      <td>2.22B</td>\n",
       "      <td>06/03</td>\n",
       "    </tr>\n",
       "  </tbody>\n",
       "</table>\n",
       "<p>100 rows × 6 columns</p>\n",
       "</div>"
      ],
      "text/plain": [
       "                                         Name   Symbol         Last   Chg  \\\n",
       "0              Amundi Euro Liquidity SRI IC C  0P0000.  249,503.940  0.02   \n",
       "1              Carmignac Patrimoine A EUR Acc  0P0000.      718.330 -0.58   \n",
       "2             Carmignac Patrimoine A EUR Ydis  0P0000.      117.430 -0.58   \n",
       "3              Carmignac Patrimoine E EUR Acc  0P0000.      172.700 -0.58   \n",
       "4          Carmignac Patrimoine A CHF Acc Hdg  0P0000.      115.780 -0.60   \n",
       "..                                        ...      ...          ...   ...   \n",
       "95                               ALM Offensif  0P0000.      321.760 -0.09   \n",
       "96              29 Haussmann Euro Rendement C  0P0000.    1,628.530 -0.61   \n",
       "97  Candriam Index Arbitrage Classique en EUR  0P0000.    1,517.410  0.06   \n",
       "98          BNP Paribas Actions Monde Classic  0P0000.       32.390 -1.10   \n",
       "99   Natixis Ultra Short Term Bonds Plus SI C  0P0000.    1,711.400 -0.01   \n",
       "\n",
       "   Total_Assets   Time  \n",
       "0        55.37B  09/03  \n",
       "1         6.16B  06/03  \n",
       "2         6.16B  06/03  \n",
       "3         6.16B  06/03  \n",
       "4         6.16B  06/03  \n",
       "..          ...    ...  \n",
       "95        1.16B  05/03  \n",
       "96        1.31B  05/03  \n",
       "97      257.12M  06/03  \n",
       "98        1.42B  05/03  \n",
       "99        2.22B  06/03  \n",
       "\n",
       "[100 rows x 6 columns]"
      ]
     },
     "metadata": {},
     "output_type": "display_data"
    }
   ],
   "source": [
    "funds_df = scrape_french_funds()\n",
    "\n",
    "if funds_df is not None:\n",
    "    print('French Companies Funds Data:')\n",
    "    display(funds_df)"
   ]
  }
 ],
 "metadata": {
  "kernelspec": {
   "display_name": "base",
   "language": "python",
   "name": "python3"
  },
  "language_info": {
   "codemirror_mode": {
    "name": "ipython",
    "version": 3
   },
   "file_extension": ".py",
   "mimetype": "text/x-python",
   "name": "python",
   "nbconvert_exporter": "python",
   "pygments_lexer": "ipython3",
   "version": "3.12.7"
  }
 },
 "nbformat": 4,
 "nbformat_minor": 2
}
