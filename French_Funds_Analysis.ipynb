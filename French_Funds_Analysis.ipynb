{
 "cells": [
  {
   "cell_type": "markdown",
   "metadata": {},
   "source": [
    "# The fonctions to import\n"
   ]
  },
  {
   "cell_type": "code",
   "execution_count": 1,
   "metadata": {},
   "outputs": [],
   "source": [
    "import numpy as np\n",
    "import requests\n",
    "from bs4 import BeautifulSoup\n",
    "import pandas as pd\n",
    "import matplotlib.pyplot as plt\n",
    "import seaborn as sns\n",
    "sns.set_palette('deep')\n",
    "\n"
   ]
  },
  {
   "cell_type": "markdown",
   "metadata": {},
   "source": [
    "# The scraping of the funds of french private company's"
   ]
  },
  {
   "cell_type": "code",
   "execution_count": 2,
   "metadata": {},
   "outputs": [
    {
     "name": "stdout",
     "output_type": "stream",
     "text": [
      "Error scraping data: 403 Client Error: Forbidden for url: https://www.investing.com/funds/france-funds\n",
      "None\n"
     ]
    }
   ],
   "source": [
    "\n",
    "\n",
    "def scrape_french_funds():\n",
    "    url = 'https://www.investing.com/funds/france-funds'\n",
    "    headers = {'User-Agent': 'Mozilla/5.0 (Windows NT 10.0; Win64; x64) AppleWebKit/537.36'}\n",
    "\n",
    "    try:\n",
    "        response = requests.get(url, headers=headers)\n",
    "        response.raise_for_status()\n",
    "        soup = BeautifulSoup(response.content, 'html.parser')\n",
    "\n",
    "        Name = []\n",
    "        Symbol = []\n",
    "        Last = []\n",
    "        Chg = []\n",
    "        Total_Assets = []\n",
    "        Time = []\n",
    "\n",
    "        table = soup.find('table')\n",
    "        if table:\n",
    "            rows = table.find_all('tr')[1:]  \n",
    "            for row in rows:\n",
    "                cols = row.find_all('td')\n",
    "                # print(f\"Columns in row: {[col.text.strip() for col in cols]}\") # DEBUG PRINT: Show column contents\n",
    "                if len(cols) >= 8:  \n",
    "                    Name.append(cols[1].text.strip())  \n",
    "                    Symbol.append(cols[2].text.strip()) \n",
    "                    Last.append(cols[3].text.strip())   \n",
    "                    Total_Assets.append(cols[5].text.strip()) \n",
    "                    Time.append(cols[6].text.strip())   \n",
    "                    try:\n",
    "                        Chg_value = float(cols[4].text.strip().replace('%', '')) \n",
    "                        Chg.append(Chg_value)\n",
    "                    except ValueError:\n",
    "                        Chg.append(None)\n",
    "                        print(f\"Warning: Could not convert '{cols[4].text.strip()}' to float for 'Chg'\")\n",
    "\n",
    "        # Create DataFrame\n",
    "        df = pd.DataFrame({\n",
    "            'Name': Name,\n",
    "            'Symbol': Symbol,\n",
    "            'Last': Last,\n",
    "            'Chg': Chg,\n",
    "            'Total_Assets': Total_Assets,\n",
    "            'Time': Time\n",
    "            })\n",
    "\n",
    "        return df\n",
    "\n",
    "    except Exception as e:\n",
    "        print(f'Error scraping data: {e}')\n",
    "        return None\n",
    "\n",
    "df = scrape_french_funds()\n",
    "print(df)"
   ]
  },
  {
   "cell_type": "markdown",
   "metadata": {},
   "source": [
    "# Fetch the data\n"
   ]
  },
  {
   "cell_type": "code",
   "execution_count": 3,
   "metadata": {},
   "outputs": [
    {
     "name": "stdout",
     "output_type": "stream",
     "text": [
      "Error scraping data: 403 Client Error: Forbidden for url: https://www.investing.com/funds/france-funds\n"
     ]
    }
   ],
   "source": [
    "funds_df = scrape_french_funds()\n",
    "\n",
    "if funds_df is not None:\n",
    "    print('French Companies Funds Data:')\n",
    "    display(funds_df)"
   ]
  },
  {
   "cell_type": "markdown",
   "metadata": {},
   "source": [
    "# Risk Analysis"
   ]
  },
  {
   "cell_type": "code",
   "execution_count": 4,
   "metadata": {},
   "outputs": [
    {
     "ename": "TypeError",
     "evalue": "'NoneType' object is not subscriptable",
     "output_type": "error",
     "traceback": [
      "\u001b[1;31m---------------------------------------------------------------------------\u001b[0m",
      "\u001b[1;31mTypeError\u001b[0m                                 Traceback (most recent call last)",
      "Cell \u001b[1;32mIn[4], line 1\u001b[0m\n\u001b[1;32m----> 1\u001b[0m funds_df[\u001b[38;5;124m'\u001b[39m\u001b[38;5;124mRisk\u001b[39m\u001b[38;5;124m'\u001b[39m] \u001b[38;5;241m=\u001b[39m \u001b[43mfunds_df\u001b[49m\u001b[43m[\u001b[49m\u001b[38;5;124;43m'\u001b[39;49m\u001b[38;5;124;43mChg\u001b[39;49m\u001b[38;5;124;43m'\u001b[39;49m\u001b[43m]\u001b[49m\u001b[38;5;241m.\u001b[39mabs()\n\u001b[0;32m      2\u001b[0m sorted_df \u001b[38;5;241m=\u001b[39m funds_df\u001b[38;5;241m.\u001b[39msort_values(by\u001b[38;5;241m=\u001b[39m\u001b[38;5;124m'\u001b[39m\u001b[38;5;124mRisk\u001b[39m\u001b[38;5;124m'\u001b[39m, ascending\u001b[38;5;241m=\u001b[39m\u001b[38;5;28;01mTrue\u001b[39;00m)\n\u001b[0;32m      4\u001b[0m \u001b[38;5;28mprint\u001b[39m(\u001b[38;5;124m\"\u001b[39m\u001b[38;5;124mFunds from Lowest to Highest Risk:\u001b[39m\u001b[38;5;124m\"\u001b[39m)\n",
      "\u001b[1;31mTypeError\u001b[0m: 'NoneType' object is not subscriptable"
     ]
    }
   ],
   "source": [
    "funds_df['Risk'] = funds_df['Chg'].abs()\n",
    "sorted_df = funds_df.sort_values(by='Risk', ascending=True)\n",
    "\n",
    "print(\"Funds from Lowest to Highest Risk:\")\n",
    "display(sorted_df[['Name', 'Risk', 'Total_Assets', 'Chg']])"
   ]
  }
 ],
 "metadata": {
  "kernelspec": {
   "display_name": "Python 3",
   "language": "python",
   "name": "python3"
  },
  "language_info": {
   "codemirror_mode": {
    "name": "ipython",
    "version": 3
   },
   "file_extension": ".py",
   "mimetype": "text/x-python",
   "name": "python",
   "nbconvert_exporter": "python",
   "pygments_lexer": "ipython3",
   "version": "3.13.1"
  }
 },
 "nbformat": 4,
 "nbformat_minor": 2
}
